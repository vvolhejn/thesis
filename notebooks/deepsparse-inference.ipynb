{
 "cells": [
  {
   "cell_type": "code",
   "execution_count": null,
   "id": "ac5d9d45",
   "metadata": {},
   "outputs": [],
   "source": [
    "import onnx"
   ]
  },
  {
   "cell_type": "code",
   "execution_count": null,
   "id": "978ad2cc",
   "metadata": {},
   "outputs": [],
   "source": [
    "import thesis.benchmarking_models\n",
    "\n",
    "models = thesis.benchmarking_models.dilated_conv_models(n_sizes=1, n_layers=3)\n",
    "models = list(models)\n",
    "\n",
    "# models = thesis.benchmarking_models.dense_models(n_sizes=1)\n",
    "# models = list(models)\n",
    "\n",
    "# models = thesis.benchmarking_models.inverted_bottleneck_models(n_sizes=1)\n",
    "# models = list(models)"
   ]
  },
  {
   "cell_type": "code",
   "execution_count": null,
   "id": "83c953b8",
   "metadata": {},
   "outputs": [],
   "source": [
    "import thesis.runtimes\n",
    "\n",
    "ort = thesis.runtimes.ONNXRuntime(\"off\")\n",
    "ort.convert(models[0][0])"
   ]
  },
  {
   "cell_type": "code",
   "execution_count": null,
   "id": "aad4305b",
   "metadata": {},
   "outputs": [],
   "source": [
    "ort.save_path"
   ]
  },
  {
   "cell_type": "code",
   "execution_count": null,
   "id": "3006f122",
   "metadata": {},
   "outputs": [],
   "source": [
    "import deepsparse\n",
    "\n",
    "from deepsparse import compile_model\n",
    "from deepsparse.utils import generate_random_inputs\n",
    "onnx_filepath = ort.save_path\n",
    "batch_size = 1\n",
    "\n",
    "# Generate random sample input\n",
    "inputs = generate_random_inputs(onnx_filepath, batch_size)\n",
    "\n",
    "# Compile and run\n",
    "engine = compile_model(onnx_filepath, batch_size)\n",
    "outputs = engine.run(inputs)"
   ]
  },
  {
   "cell_type": "code",
   "execution_count": null,
   "id": "f3f6b1d0",
   "metadata": {},
   "outputs": [],
   "source": [
    "outputs[0].shape"
   ]
  },
  {
   "cell_type": "code",
   "execution_count": null,
   "id": "d513e88c",
   "metadata": {},
   "outputs": [],
   "source": []
  }
 ],
 "metadata": {
  "kernelspec": {
   "display_name": "Python 3 (ipykernel)",
   "language": "python",
   "name": "python3"
  },
  "language_info": {
   "codemirror_mode": {
    "name": "ipython",
    "version": 3
   },
   "file_extension": ".py",
   "mimetype": "text/x-python",
   "name": "python",
   "nbconvert_exporter": "python",
   "pygments_lexer": "ipython3",
   "version": "3.8.12"
  }
 },
 "nbformat": 4,
 "nbformat_minor": 5
}
