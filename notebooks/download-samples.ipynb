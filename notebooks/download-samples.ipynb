{
 "cells": [
  {
   "cell_type": "code",
   "execution_count": null,
   "metadata": {
    "pycharm": {
     "name": "#%%\n"
    }
   },
   "outputs": [],
   "source": [
    "%load_ext autoreload\n",
    "%autoreload 2\n",
    "\n",
    "import os\n",
    "\n",
    "import soundfile\n",
    "import numpy as np\n",
    "import wandb\n",
    "api = wandb.Api()\n",
    "\n",
    "from thesis.notebook_util import audio_bytes_to_np, play_audio, specplot\n",
    "from thesis.timbre_transfer_util import get_lufs"
   ]
  },
  {
   "cell_type": "code",
   "execution_count": null,
   "metadata": {
    "pycharm": {
     "name": "#%%\n"
    }
   },
   "outputs": [],
   "source": [
    "runs = api.runs('neural-audio-synthesis-thesis/nas-evaluation', {\n",
    "    \"$and\": [{\n",
    "    'created_at': {\n",
    "        \"$lt\": '2022-08-31T##',\n",
    "        \"$gt\": '2022-08-01T##'\n",
    "        }\n",
    "    }]\n",
    "})"
   ]
  },
  {
   "cell_type": "code",
   "execution_count": null,
   "metadata": {
    "pycharm": {
     "name": "#%%\n"
    }
   },
   "outputs": [],
   "source": [
    "runs.length"
   ]
  },
  {
   "cell_type": "code",
   "execution_count": null,
   "metadata": {
    "pycharm": {
     "name": "#%%\n"
    }
   },
   "outputs": [],
   "source": [
    "run1 = None\n",
    "run2 = None\n",
    "\n",
    "for r in runs:\n",
    "    # print(r.name, r.id)\n",
    "    if run1 is None and r.name.endswith(\"0805-ddspae-cnn-rt\"):\n",
    "        run1 = r\n",
    "\n",
    "    if run2 is None and r.name.endswith(\"0805-eval-0804-ddspae-cnn-3-rtq\"):\n",
    "        run2 = r\n",
    "\n",
    "print(run1.name, run1.id)\n",
    "print(run2.name, run2.id)"
   ]
  },
  {
   "cell_type": "code",
   "execution_count": null,
   "metadata": {
    "pycharm": {
     "name": "#%%\n"
    }
   },
   "outputs": [],
   "source": [
    "SAMPLES_DIR = \"/Users/vaclav/prog/thesis/data/wandb-samples\"\n",
    "\n",
    "\n",
    "def download_audio_samples(run, samples_dir=SAMPLES_DIR, name_must_contain=\"audio_both\"):\n",
    "    paths = []\n",
    "    for file in run.files():\n",
    "        if file.mimetype.startswith(\"audio\"):\n",
    "            if name_must_contain in file.name:\n",
    "                f = file.download(samples_dir, replace=True)\n",
    "                paths.append(f.name)\n",
    "                f.close()\n",
    "\n",
    "    return paths"
   ]
  },
  {
   "cell_type": "code",
   "execution_count": null,
   "metadata": {
    "pycharm": {
     "name": "#%%\n"
    }
   },
   "outputs": [],
   "source": [
    "paths1 = download_audio_samples(run1)\n",
    "paths2 = download_audio_samples(run1)"
   ]
  },
  {
   "cell_type": "code",
   "execution_count": null,
   "metadata": {
    "pycharm": {
     "name": "#%%\n"
    }
   },
   "outputs": [],
   "source": [
    "\n",
    "def prepare_samples(paths_per_model):\n",
    "    for model in paths_per_model:\n",
    "        assert len(model[\"paths\"]) == len(paths_per_model[0][\"paths\"]), f\"Different number of samples in {model['name']} {model['id']}\"\n",
    "\n",
    "    out_dir = os.path.join(SAMPLES_DIR, \"preprocessed\")\n",
    "\n",
    "    for j, cur_paths in enumerate(zip(*[p[\"paths\"] for p in paths_per_model])):\n",
    "        # audios = [[] for _ in range(len(paths_per_model) + 1)]\n",
    "        audio_length = None\n",
    "        audio_gt = None\n",
    "\n",
    "        for i, path in enumerate(cur_paths):\n",
    "            with open(path, \"rb\") as f:\n",
    "                audio_cur = audio_bytes_to_np(f.read(), normalize_db=None)\n",
    "\n",
    "                if not audio_length:\n",
    "                    audio_length = len(audio_cur)\n",
    "\n",
    "                audio_pred_cur = audio_cur[:audio_length // 2]\n",
    "                audio_gt_cur = audio_cur[audio_length // 2:]\n",
    "\n",
    "                if audio_gt is None:\n",
    "                    audio_gt = audio_gt_cur\n",
    "                    # audios[-1].append(audio_gt)\n",
    "\n",
    "                    output_path = os.path.join(out_dir, f\"sample_{j}_gt.wav\")\n",
    "                    soundfile.write(output_path, audio_gt_cur, samplerate=16000)\n",
    "                else:\n",
    "                    assert np.allclose(audio_gt_cur, audio_gt)\n",
    "\n",
    "                # audios[i].append(audio_pred_cur)\n",
    "\n",
    "            output_path = os.path.join(out_dir, f\"sample_{j}_{paths_per_model[i]['name']}.wav\")\n",
    "            soundfile.write(output_path, audio_pred_cur, samplerate=16000)\n",
    "\n",
    "        # audio = np.clip(audio, -1, 1)\n",
    "        # audio_\n",
    "        # lufs = get_lufs(audio)\n",
    "        # print(lufs)\n",
    "        # if lufs >= -45:\n",
    "        # play_audio(audio)\n",
    "\n",
    "paths_per_model = [\n",
    "    {\"name\": run1.name, \"id\": run1.id, \"paths\": paths1},\n",
    "    {\"name\": run2.name, \"id\": run2.id, \"paths\": paths2},\n",
    "]\n",
    "\n",
    "prepare_samples(paths_per_model)"
   ]
  },
  {
   "cell_type": "code",
   "execution_count": null,
   "metadata": {
    "pycharm": {
     "name": "#%%\n"
    }
   },
   "outputs": [],
   "source": [
    "samples_dir = \"/Users/vaclav/prog/thesis/data/wandb-samples\"\n",
    "\n",
    "paths = []\n",
    "for file in run.files():\n",
    "    if file.mimetype.startswith(\"audio\"):\n",
    "        if \"audio_both\" in file.name:\n",
    "            f = file.download(samples_dir, replace=True)\n",
    "            paths.append(f.name)\n",
    "            f.close()\n",
    "\n",
    "            with open(paths[-1], \"rb\") as f:\n",
    "                audio = audio_bytes_to_np(f.read())\n",
    "\n",
    "            audio = np.clip(audio, -1, 1)\n",
    "            # audio_\n",
    "            # lufs = get_lufs(audio)\n",
    "            # print(lufs)\n",
    "            # if lufs >= -45:\n",
    "            play_audio(audio)\n",
    "            break"
   ]
  },
  {
   "cell_type": "code",
   "execution_count": null,
   "metadata": {
    "pycharm": {
     "name": "#%%\n"
    }
   },
   "outputs": [],
   "source": [
    "paths"
   ]
  },
  {
   "cell_type": "code",
   "execution_count": null,
   "metadata": {
    "pycharm": {
     "name": "#%%\n"
    }
   },
   "outputs": [],
   "source": [
    "with open(paths[0], \"rb\") as f:\n",
    "    audio = audio_bytes_to_np(f.read())"
   ]
  },
  {
   "cell_type": "code",
   "execution_count": null,
   "metadata": {
    "pycharm": {
     "name": "#%%\n"
    }
   },
   "outputs": [],
   "source": [
    "get_lufs(audio)"
   ]
  },
  {
   "cell_type": "code",
   "execution_count": null,
   "metadata": {
    "pycharm": {
     "name": "#%%\n"
    }
   },
   "outputs": [],
   "source": [
    "play_audio(audio)"
   ]
  },
  {
   "cell_type": "code",
   "execution_count": null,
   "metadata": {
    "pycharm": {
     "name": "#%%\n"
    }
   },
   "outputs": [],
   "source": []
  },
  {
   "cell_type": "code",
   "execution_count": null,
   "metadata": {
    "pycharm": {
     "name": "#%%\n"
    }
   },
   "outputs": [],
   "source": []
  },
  {
   "cell_type": "code",
   "execution_count": null,
   "metadata": {
    "pycharm": {
     "name": "#%%\n"
    }
   },
   "outputs": [],
   "source": []
  },
  {
   "cell_type": "code",
   "execution_count": null,
   "metadata": {
    "pycharm": {
     "name": "#%%\n"
    }
   },
   "outputs": [],
   "source": [
    "\"0805-eval-0804-ddspae-cnn-4-rt 3v5tsaqh\"\n"
   ]
  },
  {
   "cell_type": "code",
   "execution_count": null,
   "metadata": {
    "pycharm": {
     "name": "#%%\n"
    }
   },
   "outputs": [],
   "source": [
    "runs.more"
   ]
  },
  {
   "cell_type": "code",
   "execution_count": null,
   "metadata": {
    "pycharm": {
     "name": "#%%\n"
    }
   },
   "outputs": [],
   "source": []
  }
 ],
 "metadata": {
  "kernelspec": {
   "display_name": "Python 3",
   "language": "python",
   "name": "python3"
  },
  "language_info": {
   "codemirror_mode": {
    "name": "ipython",
    "version": 2
   },
   "file_extension": ".py",
   "mimetype": "text/x-python",
   "name": "python",
   "nbconvert_exporter": "python",
   "pygments_lexer": "ipython2",
   "version": "2.7.6"
  }
 },
 "nbformat": 4,
 "nbformat_minor": 0
}
