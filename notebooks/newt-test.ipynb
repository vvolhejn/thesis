{
 "cells": [
  {
   "cell_type": "code",
   "execution_count": null,
   "metadata": {
    "pycharm": {
     "name": "#%%\n"
    }
   },
   "outputs": [],
   "source": [
    "%load_ext autoreload\n",
    "%autoreload 2\n",
    "import tensorflow as tf\n",
    "import ddsp\n",
    "from thesis import newt\n",
    "import einops\n",
    "import numpy as np\n",
    "\n",
    "from ddsp.colab.colab_utils import specplot\n",
    "import gin\n",
    "\n",
    "gin.enter_interactive_mode()"
   ]
  },
  {
   "cell_type": "code",
   "execution_count": null,
   "metadata": {
    "pycharm": {
     "name": "#%%\n"
    }
   },
   "outputs": [],
   "source": [
    "n_samples = 16000\n",
    "harm = newt.NEWTHarmonic(n_harmonics=2, n_outputs=3, sample_rate=16000, n_samples=n_samples)\n",
    "\n",
    "# f0 = tf.zeros((2, 16000)) + 440\n",
    "f0 = tf.linspace(440, 880, n_samples).reshape((1, -1, 1))\n",
    "f0 = einops.repeat(f0, \"b t 1 -> (b2 b) t 1\", b2=2)\n",
    "exciter = harm(f0)\n",
    "exciter.shape"
   ]
  },
  {
   "cell_type": "code",
   "execution_count": null,
   "metadata": {
    "pycharm": {
     "name": "#%%\n"
    }
   },
   "outputs": [],
   "source": [
    "import matplotlib.pyplot as plt\n",
    "\n",
    "plt.plot(exciter[0, :100])"
   ]
  },
  {
   "cell_type": "code",
   "execution_count": null,
   "metadata": {
    "pycharm": {
     "name": "#%%\n"
    }
   },
   "outputs": [],
   "source": [
    "import IPython.display\n",
    "\n",
    "\n",
    "def play_audio(audio):\n",
    "    IPython.display.display(IPython.display.Audio(audio, rate=16000))\n",
    "\n",
    "\n",
    "play_audio(exciter[0, :, 0])"
   ]
  },
  {
   "cell_type": "code",
   "execution_count": null,
   "metadata": {
    "pycharm": {
     "name": "#%%\n"
    }
   },
   "outputs": [],
   "source": []
  },
  {
   "cell_type": "markdown",
   "metadata": {
    "pycharm": {
     "name": "#%% md\n"
    }
   },
   "source": [
    "## Control module"
   ]
  },
  {
   "cell_type": "code",
   "execution_count": null,
   "metadata": {
    "pycharm": {
     "name": "#%%\n"
    }
   },
   "outputs": [],
   "source": [
    "f0 = tf.zeros((2, 16000)) + 440\n",
    "other_controls = tf.zeros((2, 16000)) + 1"
   ]
  },
  {
   "cell_type": "code",
   "execution_count": null,
   "metadata": {
    "pycharm": {
     "name": "#%%\n"
    }
   },
   "outputs": [],
   "source": [
    "cm = newt.NEWTControlModule(hidden_size=30, embedding_size=10)\n",
    "cm(f0, other_controls)"
   ]
  },
  {
   "cell_type": "code",
   "execution_count": null,
   "metadata": {
    "pycharm": {
     "name": "#%%\n"
    }
   },
   "outputs": [],
   "source": [
    "layer = tf.keras.layers.Activation('identity')\n",
    "output = layer([-3.0, -1.0, 0.0, 2.0])\n",
    "# list(output.numpy())\n",
    "output.numpy()"
   ]
  },
  {
   "cell_type": "markdown",
   "metadata": {},
   "source": []
  },
  {
   "cell_type": "markdown",
   "metadata": {
    "pycharm": {
     "name": "#%% md\n"
    }
   },
   "source": [
    "## NEWT waveshaper"
   ]
  },
  {
   "cell_type": "code",
   "execution_count": null,
   "metadata": {
    "pycharm": {
     "name": "#%%\n"
    }
   },
   "outputs": [],
   "source": [
    "control_embedding_size = 8\n",
    "batch_size = 2\n",
    "control = tf.random.normal((batch_size, 100, control_embedding_size))"
   ]
  },
  {
   "cell_type": "code",
   "execution_count": null,
   "metadata": {
    "pycharm": {
     "name": "#%%\n"
    }
   },
   "outputs": [],
   "source": [
    "\n",
    "shaper = newt.NEWTWaveshaper(\n",
    "    n_waveshapers=3,\n",
    "    control_embedding_size=control_embedding_size,\n",
    "    shaping_fn_hidden_size=16,\n",
    ")\n",
    "y = shaper(exciter, control)\n",
    "y.shape"
   ]
  },
  {
   "cell_type": "code",
   "execution_count": null,
   "metadata": {
    "pycharm": {
     "name": "#%%\n"
    }
   },
   "outputs": [],
   "source": [
    "plt.plot(y[0])\n",
    "play_audio(y[0,:])"
   ]
  },
  {
   "cell_type": "code",
   "execution_count": null,
   "metadata": {
    "pycharm": {
     "name": "#%%\n"
    }
   },
   "outputs": [],
   "source": [
    "a = tf.linspace(-5, 5, 100)\n",
    "a = einops.repeat(a, \"x -> 1 x n_waveshapers\", n_waveshapers=shaper.n_waveshapers)\n",
    "b = shaper.shaping_fn(a)\n",
    "#b = einops.rearrange(b, \"n_waveshapers samples 1 1 -> n_waveshapers samples\")"
   ]
  },
  {
   "cell_type": "code",
   "execution_count": null,
   "metadata": {
    "pycharm": {
     "name": "#%%\n"
    }
   },
   "outputs": [],
   "source": [
    "plt.plot(b[0])"
   ]
  },
  {
   "cell_type": "code",
   "execution_count": null,
   "metadata": {
    "pycharm": {
     "name": "#%%\n"
    }
   },
   "outputs": [],
   "source": [
    "shapers = newt.NEWTTrainableWaveshapers(n_waveshapers=4)\n",
    "a = np.linspace(-3, 3, 100)\n",
    "a = einops.repeat(a, \"x -> 1 x n_waveshapers\", n_waveshapers=4)\n",
    "lookup_table = shapers(a)[0]\n",
    "plt.plot(lookup_table)"
   ]
  },
  {
   "cell_type": "code",
   "execution_count": null,
   "metadata": {
    "pycharm": {
     "name": "#%%\n"
    }
   },
   "outputs": [],
   "source": [
    "min_value = -3\n",
    "max_value = 3\n",
    "n_buckets = 100\n",
    "batch_size = 2\n",
    "n_waveshapers = 4\n",
    "\n",
    "n_samples = 50\n",
    "a = np.linspace(-4, 4, n_samples)\n",
    "a = einops.repeat(a, \"x -> b x n_waveshapers\", b=2, n_waveshapers=n_waveshapers)\n",
    "\n",
    "a = tf.clip_by_value(a, min_value, max_value)\n",
    "\n",
    "#b = tf.gather()\n",
    "indices = tf.round((n_buckets - 1) * (a + max_value) / (max_value - min_value)).astype(tf.int32)\n",
    "x = einops.repeat(tf.range(n_waveshapers), \"n_waveshapers -> b x n_waveshapers\", b=batch_size, x=n_samples)\n",
    "indices = tf.stack([indices, x], axis=-1)"
   ]
  },
  {
   "cell_type": "code",
   "execution_count": null,
   "metadata": {
    "pycharm": {
     "name": "#%%\n"
    }
   },
   "outputs": [],
   "source": [
    "out_cached = tf.gather_nd(params=lookup_table, indices=indices)\n",
    "out_cached.shape"
   ]
  },
  {
   "cell_type": "code",
   "execution_count": null,
   "metadata": {
    "pycharm": {
     "name": "#%%\n"
    }
   },
   "outputs": [],
   "source": [
    "plt.plot(out_cached[0])"
   ]
  },
  {
   "cell_type": "code",
   "execution_count": null,
   "metadata": {
    "pycharm": {
     "name": "#%%\n"
    }
   },
   "outputs": [],
   "source": [
    "tf.gather_nd(params=lookup_table, indices=tf.convert_to_tensor([[[0,0], [1,1]]]))"
   ]
  },
  {
   "cell_type": "code",
   "execution_count": null,
   "metadata": {
    "pycharm": {
     "name": "#%%\n"
    }
   },
   "outputs": [],
   "source": [
    "indices"
   ]
  },
  {
   "cell_type": "code",
   "execution_count": null,
   "metadata": {
    "pycharm": {
     "name": "#%%\n"
    }
   },
   "outputs": [],
   "source": []
  }
 ],
 "metadata": {
  "kernelspec": {
   "display_name": "Python 3",
   "language": "python",
   "name": "python3"
  },
  "language_info": {
   "codemirror_mode": {
    "name": "ipython",
    "version": 2
   },
   "file_extension": ".py",
   "mimetype": "text/x-python",
   "name": "python",
   "nbconvert_exporter": "python",
   "pygments_lexer": "ipython2",
   "version": "2.7.6"
  }
 },
 "nbformat": 4,
 "nbformat_minor": 0
}
