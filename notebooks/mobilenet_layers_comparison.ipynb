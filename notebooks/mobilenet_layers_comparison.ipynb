{
 "cells": [
  {
   "cell_type": "markdown",
   "metadata": {
    "pycharm": {
     "name": "#%% md\n"
    }
   },
   "source": [
    "# Which MobileNet layers take how much time?\n",
    "\n",
    "We want to choose a MobileNet inverted residual block to benchmark. A reasonable way to do this is to select the one that takes the most FLOPs of the model. "
   ]
  },
  {
   "cell_type": "code",
   "execution_count": null,
   "metadata": {
    "pycharm": {
     "name": "#%%\n"
    }
   },
   "outputs": [],
   "source": [
    "import tensorflow as tf"
   ]
  },
  {
   "cell_type": "code",
   "execution_count": null,
   "metadata": {
    "pycharm": {
     "name": "#%%\n"
    }
   },
   "outputs": [],
   "source": [
    "model = tf.keras.applications.mobilenet_v2.MobileNetV2(input_shape=(224, 224, 3), include_top=True)"
   ]
  },
  {
   "cell_type": "code",
   "execution_count": null,
   "metadata": {
    "pycharm": {
     "name": "#%%\n"
    }
   },
   "outputs": [],
   "source": [
    "# from thesis.benchmark import get_keras_model_flops"
   ]
  },
  {
   "cell_type": "code",
   "execution_count": null,
   "metadata": {
    "pycharm": {
     "name": "#%%\n"
    }
   },
   "outputs": [],
   "source": [
    "def get_keras_model_flops(keras_model, batch_size=1):\n",
    "    from tensorflow.python.profiler.model_analyzer import profile\n",
    "    from tensorflow.python.profiler.option_builder import ProfileOptionBuilder\n",
    "\n",
    "    # model = tf.keras.applications.ResNet50()\n",
    "    forward_pass = tf.function(\n",
    "        keras_model.call,\n",
    "        input_signature=[\n",
    "            tf.TensorSpec(shape=[batch_size] + list(keras_model.input.shape)[1:])\n",
    "        ],\n",
    "    )\n",
    "\n",
    "    opts = ProfileOptionBuilder().float_operation()\n",
    "    # Silence stdout output\n",
    "    # opts[\"output\"] = \"none\"\n",
    "\n",
    "    graph_info = profile(\n",
    "        forward_pass.get_concrete_function().graph,\n",
    "        options=opts,\n",
    "    )\n",
    "\n",
    "    return graph_info, graph_info.total_float_ops\n"
   ]
  },
  {
   "cell_type": "code",
   "execution_count": null,
   "metadata": {
    "pycharm": {
     "name": "#%%\n"
    }
   },
   "outputs": [],
   "source": [
    "model.input.shape"
   ]
  },
  {
   "cell_type": "code",
   "execution_count": null,
   "metadata": {
    "pycharm": {
     "name": "#%%\n"
    }
   },
   "outputs": [],
   "source": [
    "graph_info, flops = get_keras_model_flops(model)"
   ]
  },
  {
   "cell_type": "code",
   "execution_count": null,
   "metadata": {
    "pycharm": {
     "name": "#%%\n"
    }
   },
   "outputs": [],
   "source": [
    "import pandas as pd\n",
    "import seaborn as sns"
   ]
  },
  {
   "cell_type": "code",
   "execution_count": null,
   "metadata": {
    "pycharm": {
     "name": "#%%\n"
    }
   },
   "outputs": [],
   "source": [
    "rows = []\n",
    "\n",
    "for child in graph_info.children:\n",
    "    rows.append({\n",
    "        \"name\": child.name,\n",
    "        \"float_ops\": child.float_ops,\n",
    "    })\n",
    "\n",
    "df = pd.DataFrame(rows)"
   ]
  },
  {
   "cell_type": "code",
   "execution_count": null,
   "metadata": {},
   "outputs": [],
   "source": [
    "df[\"block\"] = df[\"name\"].str.extract(\"block_([0-9]+)_\").fillna(0).astype(int)"
   ]
  },
  {
   "cell_type": "code",
   "execution_count": null,
   "metadata": {},
   "outputs": [],
   "source": [
    "df = df.sort_values([\"block\", \"name\"])"
   ]
  },
  {
   "cell_type": "code",
   "execution_count": null,
   "metadata": {
    "pycharm": {
     "name": "#%%\n"
    }
   },
   "outputs": [],
   "source": [
    "import matplotlib.pyplot as plt\n",
    "\n",
    "plt.rcParams[\"figure.figsize\"] = (10,20)\n",
    "\n",
    "sns.barplot(data=df, y=\"name\", x=\"float_ops\")"
   ]
  },
  {
   "cell_type": "markdown",
   "metadata": {},
   "source": [
    "MobileNet paper: https://arxiv.org/pdf/1801.04381.pdf\n",
    "\n",
    "The blocks here correspond to:\n",
    "\n",
    "| Blocks | Input size        |\n",
    "| ---    | ---               |\n",
    "| 1      | $112^2 \\times 32$ |\n",
    "| 2-3    | $112^2 \\times 16$ |\n",
    "| 4-6    | $56^2 \\times 24$ |\n",
    "| 7-10   | $28^2 \\times 32$ |\n",
    "| 11-13  | $14^2 \\times 64$ |\n",
    "| 14-16  | $14^2 \\times 96$ |"
   ]
  },
  {
   "cell_type": "code",
   "execution_count": null,
   "metadata": {},
   "outputs": [],
   "source": [
    "groups = [[1], [2,3], [4,5,6], [7,8,9,10], [11,12,13], [14,15,16]]"
   ]
  },
  {
   "cell_type": "code",
   "execution_count": null,
   "metadata": {},
   "outputs": [],
   "source": [
    "df[\"group\"] = 0\n",
    "for i, group in enumerate(groups):\n",
    "    df.loc[df[\"block\"].isin(group), \"group\"] = i + 1"
   ]
  },
  {
   "cell_type": "code",
   "execution_count": null,
   "metadata": {},
   "outputs": [],
   "source": [
    "df.groupby(\"group\").agg({\"float_ops\": \"sum\"})"
   ]
  },
  {
   "cell_type": "code",
   "execution_count": null,
   "metadata": {},
   "outputs": [],
   "source": [
    "plt.rcParams[\"figure.figsize\"] = (10,6)\n",
    "\n",
    "sns.barplot(data=df.groupby(\"group\").agg({\"float_ops\": \"sum\"}).reset_index(), y=\"float_ops\", x=\"group\")"
   ]
  },
  {
   "cell_type": "markdown",
   "metadata": {},
   "source": [
    "Conclusion: group 5 (input size 14x14x96) has the highest flops of the model"
   ]
  },
  {
   "cell_type": "code",
   "execution_count": null,
   "metadata": {
    "pycharm": {
     "name": "#%%\n"
    }
   },
   "outputs": [],
   "source": []
  }
 ],
 "metadata": {
  "kernelspec": {
   "display_name": "Python 3 (ipykernel)",
   "language": "python",
   "name": "python3"
  },
  "language_info": {
   "codemirror_mode": {
    "name": "ipython",
    "version": 3
   },
   "file_extension": ".py",
   "mimetype": "text/x-python",
   "name": "python",
   "nbconvert_exporter": "python",
   "pygments_lexer": "ipython3",
   "version": "3.9.13"
  }
 },
 "nbformat": 4,
 "nbformat_minor": 1
}
