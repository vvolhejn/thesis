{
 "cells": [
  {
   "cell_type": "markdown",
   "metadata": {},
   "source": [
    "Could the non-ML pYIN algorithm be faster than CREPE? It depends on the parameters."
   ]
  },
  {
   "cell_type": "code",
   "execution_count": null,
   "metadata": {},
   "outputs": [],
   "source": [
    "from ddsp.spectral_ops import compute_f0\n",
    "from thesis.notebook_util import specplot, play_audio\n",
    "import librosa\n",
    "import numpy as np"
   ]
  },
  {
   "cell_type": "code",
   "execution_count": null,
   "metadata": {},
   "outputs": [],
   "source": [
    "import ddsp.training.data\n",
    "data_provider = ddsp.training.data.TFRecordProvider(\n",
    "#     \"../data/datasets/violin3/violin3.tfrecord*\",\n",
    "    \"/home/vaclav/datasets/violin3/violin3.tfrecord*\",\n",
    "    frame_rate=50,\n",
    "    centered=True,\n",
    "    with_jukebox=False,\n",
    ")\n",
    "dataset = data_provider.get_batch(batch_size=1, shuffle=False, repeats=1)\n",
    "dataset_iter = iter(dataset)"
   ]
  },
  {
   "cell_type": "code",
   "execution_count": null,
   "metadata": {},
   "outputs": [],
   "source": [
    "for i in range(300):\n",
    "    batch = next(dataset_iter)"
   ]
  },
  {
   "cell_type": "code",
   "execution_count": null,
   "metadata": {},
   "outputs": [],
   "source": [
    "batch = next(dataset_iter)\n",
    "audio = batch[\"audio_16k\"]\n",
    "audio = audio[:,:16000]\n",
    "play_audio(audio)"
   ]
  },
  {
   "cell_type": "code",
   "execution_count": null,
   "metadata": {},
   "outputs": [],
   "source": [
    "%%timeit -n 1 -r 100\n",
    "f0_hz_crepe, f0_confidence_crepe = compute_f0(audio[0], frame_rate=50, model_name=\"crepe-tiny\")"
   ]
  },
  {
   "cell_type": "code",
   "execution_count": null,
   "metadata": {},
   "outputs": [],
   "source": [
    "%%timeit -n 1 -r 100\n",
    "f0_hz_pyin, _, f0_confidence_pyin = librosa.pyin(\n",
    "    audio[0].numpy(),\n",
    "    fmin=librosa.note_to_hz('C2'),\n",
    "    fmax=librosa.note_to_hz('C7'),\n",
    "    sr=16000,\n",
    "    frame_length=(16000//50)*4,\n",
    "    resolution=0.2,\n",
    ")"
   ]
  },
  {
   "cell_type": "code",
   "execution_count": null,
   "metadata": {},
   "outputs": [],
   "source": [
    "%%timeit -n 1 -r 100\n",
    "f0_hz_yin = librosa.yin(\n",
    "    audio[0].numpy(),\n",
    "    fmin=librosa.note_to_hz('C2'),\n",
    "    fmax=librosa.note_to_hz('C7'),\n",
    "    sr=16000,\n",
    "    frame_length=(16000//50)*4,\n",
    ")"
   ]
  },
  {
   "cell_type": "code",
   "execution_count": null,
   "metadata": {},
   "outputs": [],
   "source": [
    "%%timeit\n",
    "frequencies_piptrack, magnitudes_piptrack = librosa.piptrack(\n",
    "    y=audio[0].numpy(),\n",
    "    fmin=librosa.note_to_hz('C2'),\n",
    "    fmax=librosa.note_to_hz('C7'),\n",
    "    sr=16000,\n",
    "    # frame_length=(16000//50)*4,\n",
    "    hop_length=(16000//50),\n",
    ")\n",
    "\n",
    "index = magnitudes_piptrack.argmax(axis=0)\n",
    "\n",
    "f0_hz_piptrack = np.array([f[i] for f, i in zip(frequencies_piptrack.T, index)])"
   ]
  },
  {
   "cell_type": "code",
   "execution_count": null,
   "metadata": {},
   "outputs": [],
   "source": [
    "import matplotlib.pyplot as plt\n",
    "\n",
    "plt.plot(f0_hz_crepe)\n",
    "plt.plot(f0_hz_pyin)\n",
    "plt.plot(f0_hz_yin)\n",
    "plt.plot(f0_hz_piptrack)"
   ]
  },
  {
   "cell_type": "code",
   "execution_count": null,
   "metadata": {},
   "outputs": [],
   "source": [
    "specplot(audio[0])"
   ]
  },
  {
   "cell_type": "code",
   "execution_count": null,
   "metadata": {},
   "outputs": [],
   "source": [
    "import matplotlib.pyplot as plt\n",
    "\n",
    "plt.plot(f0_confidence_crepe[:50])\n",
    "plt.plot(f0_confidence_pyin[:50])"
   ]
  },
  {
   "cell_type": "code",
   "execution_count": null,
   "metadata": {},
   "outputs": [],
   "source": []
  }
 ],
 "metadata": {
  "kernelspec": {
   "display_name": "Python 3 (ipykernel)",
   "language": "python",
   "name": "python3"
  },
  "language_info": {
   "codemirror_mode": {
    "name": "ipython",
    "version": 3
   },
   "file_extension": ".py",
   "mimetype": "text/x-python",
   "name": "python",
   "nbconvert_exporter": "python",
   "pygments_lexer": "ipython3"
  }
 },
 "nbformat": 4,
 "nbformat_minor": 1
}
