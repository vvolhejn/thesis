{
 "cells": [
  {
   "cell_type": "markdown",
   "metadata": {},
   "source": [
    "In an older version of the dataset, the whole evaluation set was from one file, which could limit its diversity."
   ]
  },
  {
   "cell_type": "code",
   "execution_count": null,
   "metadata": {},
   "outputs": [],
   "source": [
    "%load_ext autoreload\n",
    "%autoreload 2\n",
    "\n",
    "import gin\n",
    "gin.enter_interactive_mode()\n",
    "\n",
    "import ddsp.training"
   ]
  },
  {
   "cell_type": "code",
   "execution_count": null,
   "metadata": {},
   "outputs": [],
   "source": [
    "from thesis.notebook_util import specplot, play_audio"
   ]
  },
  {
   "cell_type": "code",
   "execution_count": null,
   "metadata": {},
   "outputs": [],
   "source": [
    "data_provider = ddsp.training.data.TFRecordProvider(\n",
    "    \"/Users/vaclav/prog/thesis/data/datasets/violin4/violin4.tfrecord-eval*\",\n",
    "    frame_rate=50,\n",
    "    centered=True,\n",
    "    with_jukebox=True,\n",
    ")\n",
    "dataset = data_provider.get_batch(batch_size=1, shuffle=False, repeats=1)\n",
    "batch = next(iter(dataset))"
   ]
  },
  {
   "cell_type": "code",
   "execution_count": null,
   "metadata": {},
   "outputs": [],
   "source": [
    "x = 0\n",
    "for i, batch in enumerate(iter(dataset)):\n",
    "    x += 1\n",
    "    if i % 10 == 0:\n",
    "        specplot(batch[\"audio_16k\"])\n",
    "        play_audio(batch[\"audio_16k\"])\n",
    "x"
   ]
  },
  {
   "cell_type": "code",
   "execution_count": null,
   "metadata": {},
   "outputs": [],
   "source": [
    "x"
   ]
  },
  {
   "cell_type": "code",
   "execution_count": null,
   "metadata": {},
   "outputs": [],
   "source": [
    "specplot(batch[\"audio_16k\"])"
   ]
  },
  {
   "cell_type": "code",
   "execution_count": null,
   "metadata": {},
   "outputs": [],
   "source": [
    "play_audio(batch[\"audio_16k\"])"
   ]
  },
  {
   "cell_type": "code",
   "execution_count": null,
   "metadata": {},
   "outputs": [],
   "source": []
  }
 ],
 "metadata": {
  "kernelspec": {
   "display_name": "Python 3",
   "language": "python",
   "name": "python3"
  },
  "language_info": {
   "codemirror_mode": {
    "name": "ipython",
    "version": 2
   },
   "file_extension": ".py",
   "mimetype": "text/x-python",
   "name": "python",
   "nbconvert_exporter": "python",
   "pygments_lexer": "ipython2"
  }
 },
 "nbformat": 4,
 "nbformat_minor": 0
}
