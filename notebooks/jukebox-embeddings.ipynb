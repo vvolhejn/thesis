{
 "cells": [
  {
   "cell_type": "code",
   "execution_count": null,
   "metadata": {
    "pycharm": {
     "name": "#%%\n"
    }
   },
   "outputs": [],
   "source": [
    "%load_ext autoreload\n",
    "%autoreload 2\n",
    "\n",
    "import gin\n",
    "gin.enter_interactive_mode()\n",
    "\n",
    "import ddsp.training"
   ]
  },
  {
   "cell_type": "code",
   "execution_count": null,
   "metadata": {
    "pycharm": {
     "name": "#%%\n"
    }
   },
   "outputs": [],
   "source": [
    "data_provider = ddsp.training.data.TFRecordProvider(\n",
    "    \"/Volumes/euler/datasets/transfer4/transfer4.tfrecord*\",\n",
    "    frame_rate=50,\n",
    "    centered=True,\n",
    "    with_jukebox=True,\n",
    ")\n",
    "dataset = data_provider.get_batch(batch_size=1, shuffle=True, repeats=1)\n",
    "batch = next(iter(dataset))"
   ]
  },
  {
   "cell_type": "code",
   "execution_count": null,
   "metadata": {
    "pycharm": {
     "name": "#%%\n"
    }
   },
   "outputs": [],
   "source": [
    "data_provider = ddsp.training.data.TFRecordProvider(\n",
    "    \"/Users/vaclav/prog/thesis/data/datasets/violin3/violin3.tfrecord*\",\n",
    "    frame_rate=50,\n",
    "    centered=True,\n",
    "    with_jukebox=True,\n",
    ")\n",
    "dataset = data_provider.get_batch(batch_size=1, shuffle=True, repeats=1)\n",
    "batch = next(iter(dataset))"
   ]
  },
  {
   "cell_type": "code",
   "execution_count": null,
   "metadata": {
    "pycharm": {
     "name": "#%%\n"
    }
   },
   "outputs": [],
   "source": [
    "batch[\"loudness_db\"]"
   ]
  },
  {
   "cell_type": "code",
   "execution_count": null,
   "metadata": {
    "pycharm": {
     "name": "#%%\n"
    }
   },
   "outputs": [],
   "source": [
    "batch.keys()"
   ]
  },
  {
   "cell_type": "code",
   "execution_count": null,
   "metadata": {
    "pycharm": {
     "name": "#%%\n"
    }
   },
   "outputs": [],
   "source": [
    "import thesis\n",
    "from thesis.notebook_util import play_audio"
   ]
  },
  {
   "cell_type": "code",
   "execution_count": null,
   "metadata": {
    "pycharm": {
     "name": "#%%\n"
    }
   },
   "outputs": [],
   "source": [
    "play_audio(batch[\"audio_16k\"])"
   ]
  },
  {
   "cell_type": "code",
   "execution_count": null,
   "metadata": {
    "pycharm": {
     "name": "#%%\n"
    }
   },
   "outputs": [],
   "source": [
    "import ddsp.training.jukebox\n",
    "import torch\n",
    "from ddsp.training.jukebox import vqvae"
   ]
  },
  {
   "cell_type": "code",
   "execution_count": null,
   "metadata": {
    "pycharm": {
     "name": "#%%\n"
    }
   },
   "outputs": [],
   "source": [
    "decoded = ddsp.training.jukebox.vqvae.decode(\n",
    "    [\n",
    "        torch.as_tensor(batch[\"jukebox_indices_0\"][:,:-1].numpy()).type(torch.IntTensor),\n",
    "        torch.as_tensor(batch[\"jukebox_indices_1\"][:,:-1].numpy()).type(torch.IntTensor),\n",
    "        torch.as_tensor(batch[\"jukebox_indices_2\"][:,:-1].numpy()).type(torch.IntTensor),\n",
    "    ],\n",
    "    start_level=0,\n",
    ")"
   ]
  },
  {
   "cell_type": "code",
   "execution_count": null,
   "metadata": {
    "pycharm": {
     "name": "#%%\n"
    }
   },
   "outputs": [],
   "source": [
    "play_audio(decoded)"
   ]
  },
  {
   "cell_type": "code",
   "execution_count": null,
   "metadata": {
    "pycharm": {
     "name": "#%%\n"
    }
   },
   "outputs": [],
   "source": [
    "for i in range(10):\n",
    "    indices = torch.as_tensor(batch[\"jukebox_indices_2\"][:, :-1].numpy()).type(torch.IntTensor)\n",
    "    rot = i\n",
    "    indices = (indices + rot) % 2048\n",
    "\n",
    "    decoded = ddsp.training.jukebox.vqvae.decode(\n",
    "        [\n",
    "            indices,\n",
    "            # torch.as_tensor(batch[\"jukebox_indices_1\"][:, :-1].numpy()).type(torch.IntTensor),\n",
    "            # torch.as_tensor(batch[\"jukebox_indices_2\"][:, :-1].numpy()).type(torch.IntTensor),\n",
    "        ],\n",
    "        start_level=2,\n",
    "    )\n",
    "\n",
    "    play_audio(decoded)"
   ]
  },
  {
   "cell_type": "code",
   "execution_count": null,
   "metadata": {
    "pycharm": {
     "name": "#%%\n"
    }
   },
   "outputs": [],
   "source": [
    "play_audio(batch[\"audio_16k\"])"
   ]
  },
  {
   "cell_type": "code",
   "execution_count": null,
   "metadata": {
    "pycharm": {
     "name": "#%%\n"
    }
   },
   "outputs": [],
   "source": [
    "encodings_gt = vqvae.encode(torch.as_tensor(batch[\"audio_16k\"].numpy()).reshape(1, -1, 1))"
   ]
  },
  {
   "cell_type": "code",
   "execution_count": null,
   "metadata": {
    "pycharm": {
     "name": "#%%\n"
    }
   },
   "outputs": [],
   "source": [
    "encodings_gt[2][0].numpy()[300]"
   ]
  },
  {
   "cell_type": "code",
   "execution_count": null,
   "metadata": {
    "pycharm": {
     "name": "#%%\n"
    }
   },
   "outputs": [],
   "source": [
    "batch[\"jukebox_indices_2\"][0][300]"
   ]
  },
  {
   "cell_type": "code",
   "execution_count": null,
   "metadata": {
    "pycharm": {
     "name": "#%%\n"
    }
   },
   "outputs": [],
   "source": [
    "decoded_gt = vqvae.decode(encodings_gt)\n",
    "play_audio(decoded_gt)"
   ]
  },
  {
   "cell_type": "code",
   "execution_count": null,
   "metadata": {
    "pycharm": {
     "name": "#%%\n"
    }
   },
   "outputs": [],
   "source": [
    "decoded = torch.nn.functional.embedding(\n",
    "    encodings_gt[0],\n",
    "    vqvae.bottleneck.level_blocks[0].k,\n",
    ")[0].t()"
   ]
  },
  {
   "cell_type": "code",
   "execution_count": null,
   "metadata": {
    "pycharm": {
     "name": "#%%\n"
    }
   },
   "outputs": [],
   "source": [
    "decoded.shape"
   ]
  },
  {
   "cell_type": "code",
   "execution_count": null,
   "metadata": {
    "pycharm": {
     "name": "#%%\n"
    }
   },
   "outputs": [],
   "source": [
    "x = vqvae.bottleneck.decode(encodings_gt)"
   ]
  },
  {
   "cell_type": "code",
   "execution_count": null,
   "metadata": {
    "pycharm": {
     "name": "#%%\n"
    }
   },
   "outputs": [],
   "source": [
    "torch.all(x[0] == decoded)"
   ]
  },
  {
   "cell_type": "code",
   "execution_count": null,
   "metadata": {
    "pycharm": {
     "name": "#%%\n"
    }
   },
   "outputs": [],
   "source": [
    "ddsp.training.jukebox.embedding_lookup(\n",
    "    [batch[\"jukebox_embeddings_0\"], batch[\"jukebox_embeddings_1\"], batch[\"jukebox_embeddings_2\"]]\n",
    ")[2].shape"
   ]
  },
  {
   "cell_type": "code",
   "execution_count": null,
   "metadata": {
    "pycharm": {
     "name": "#%%\n"
    }
   },
   "outputs": [],
   "source": [
    "import tensorflow as tf\n",
    "\n",
    "params = tf.convert_to_tensor(vqvae.bottleneck.level_blocks[0].k)\n",
    "ids = batch[\"jukebox_indices_0\"].astype(tf.int32)\n",
    "\n",
    "x_tf = tf.nn.embedding_lookup(\n",
    "    params, ids,\n",
    ")"
   ]
  },
  {
   "cell_type": "code",
   "execution_count": null,
   "metadata": {
    "pycharm": {
     "name": "#%%\n"
    }
   },
   "outputs": [],
   "source": [
    "x_tf.shape"
   ]
  },
  {
   "cell_type": "code",
   "execution_count": null,
   "metadata": {
    "pycharm": {
     "name": "#%%\n"
    }
   },
   "outputs": [],
   "source": [
    "x_tf[0,:5,:5]"
   ]
  },
  {
   "cell_type": "code",
   "execution_count": null,
   "metadata": {
    "pycharm": {
     "name": "#%%\n"
    }
   },
   "outputs": [],
   "source": [
    "x[0][0,:5,:5].t()"
   ]
  },
  {
   "cell_type": "code",
   "execution_count": null,
   "metadata": {
    "pycharm": {
     "name": "#%%\n"
    }
   },
   "outputs": [],
   "source": []
  }
 ],
 "metadata": {
  "kernelspec": {
   "display_name": "Python 3 (ipykernel)",
   "language": "python",
   "name": "python3"
  },
  "language_info": {
   "codemirror_mode": {
    "name": "ipython",
    "version": 3
   },
   "file_extension": ".py",
   "mimetype": "text/x-python",
   "name": "python",
   "nbconvert_exporter": "python",
   "pygments_lexer": "ipython3",
   "version": "3.9.13"
  }
 },
 "nbformat": 4,
 "nbformat_minor": 1
}
