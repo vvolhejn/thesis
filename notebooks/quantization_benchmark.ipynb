{
 "cells": [
  {
   "cell_type": "code",
   "execution_count": null,
   "metadata": {},
   "outputs": [],
   "source": [
    "%load_ext autoreload\n",
    "%autoreload 2\n",
    "\n",
    "# White background for matplotlib plots\n",
    "%config InlineBackend.print_figure_kwargs={'facecolor' : \"w\"}\n",
    "\n",
    "import numpy as np\n",
    "import tensorflow as tf\n",
    "import torch\n",
    "\n",
    "import thesis.quantization_benchmark as qb"
   ]
  },
  {
   "cell_type": "code",
   "execution_count": null,
   "metadata": {
    "pycharm": {
     "name": "#%%\n"
    }
   },
   "outputs": [],
   "source": [
    "dense_model = tf.keras.Sequential(\n",
    "    [\n",
    "        tf.keras.layers.Input((32, 32, 3)),\n",
    "        # tf.keras.layers.Conv2D(filters=64, kernel_size=3, activation=tf.nn.relu),\n",
    "        # tf.keras.layers.GlobalMaxPooling2D(),\n",
    "        tf.keras.layers.Flatten(),\n",
    "        tf.keras.layers.Dense(256, activation=tf.nn.relu),\n",
    "        tf.keras.layers.Dense(128),\n",
    "    ]\n",
    ")\n",
    "\n",
    "# dense_model_torch = torch.nn.Sequential(\n",
    "#     torch.nn.Flatten(),\n",
    "#     tf.keras.layers.Dense(256, activation=tf.nn.relu),\n",
    "#     torch.nn.Linear(28 * 28, 512),\n",
    "#     torch.nn.ReLU(),\n",
    "#     torch.nn.Linear(512, 512),\n",
    "#     torch.nn.ReLU(),\n",
    "#     torch.nn.Linear(512, 10),\n",
    "# )\n",
    "\n",
    "runtimes = [\n",
    "    qb.TensorFlow(),\n",
    "    qb.TFLite(quantization_mode=\"off\"),\n",
    "    qb.TFLite(quantization_mode=\"dynamic\"),\n",
    "    qb.TFLite(quantization_mode=\"static\"),\n",
    "    qb.ONNXRuntime(quantization_mode=\"off\"),\n",
    "    qb.ONNXRuntime(quantization_mode=\"dynamic\"),\n",
    "    qb.ONNXRuntime(quantization_mode=\"static_qoperator\"),\n",
    "    qb.ONNXRuntime(quantization_mode=\"static_qdq\"),\n",
    "]\n",
    "\n",
    "times = qb.benchmark(dense_model, runtimes)"
   ]
  },
  {
   "cell_type": "code",
   "execution_count": null,
   "metadata": {
    "pycharm": {
     "name": "#%%\n"
    }
   },
   "outputs": [],
   "source": [
    "import matplotlib.pyplot as plt\n",
    "for t in times:\n",
    "    plt.plot(t.times)\n",
    "    plt.show()"
   ]
  },
  {
   "cell_type": "markdown",
   "metadata": {
    "pycharm": {
     "name": "#%% md\n"
    }
   },
   "source": [
    "## CNN model"
   ]
  },
  {
   "cell_type": "code",
   "execution_count": null,
   "metadata": {
    "pycharm": {
     "name": "#%%\n"
    }
   },
   "outputs": [],
   "source": [
    "cnn_model = tf.keras.Sequential(\n",
    "    [\n",
    "        tf.keras.layers.Input((32, 32, 3)),\n",
    "        tf.keras.layers.Conv2D(filters=64, kernel_size=3, activation=tf.nn.relu),\n",
    "        tf.keras.layers.Conv2D(filters=64, kernel_size=3, activation=tf.nn.relu),\n",
    "        tf.keras.layers.GlobalMaxPooling2D(),\n",
    "        # tf.keras.layers.Dense(128),\n",
    "    ]\n",
    ")\n",
    "\n",
    "runtimes = [\n",
    "    qb.TensorFlow(),\n",
    "    qb.TFLite(quantization_mode=\"off\"),\n",
    "    qb.TFLite(quantization_mode=\"dynamic\"),\n",
    "    qb.TFLite(quantization_mode=\"static\"),\n",
    "    qb.ONNXRuntime(quantization_mode=\"off\"),\n",
    "    # qb.ONNXRuntime(quantization_mode=\"dynamic\"),\n",
    "    qb.ONNXRuntime(quantization_mode=\"static_qoperator\"),\n",
    "    qb.ONNXRuntime(quantization_mode=\"static_qdq\"),\n",
    "]\n",
    "\n",
    "qb.benchmark(cnn_model, runtimes)"
   ]
  },
  {
   "cell_type": "code",
   "execution_count": null,
   "metadata": {
    "pycharm": {
     "name": "#%%\n"
    }
   },
   "outputs": [],
   "source": []
  },
  {
   "cell_type": "code",
   "execution_count": null,
   "metadata": {
    "pycharm": {
     "name": "#%%\n"
    }
   },
   "outputs": [],
   "source": [
    "data = np.random.randn(*([1] + list(model.input.shape)[1:]))\n",
    "runtimes[0].run(data)"
   ]
  },
  {
   "cell_type": "code",
   "execution_count": null,
   "metadata": {
    "pycharm": {
     "name": "#%%\n"
    }
   },
   "outputs": [],
   "source": []
  }
 ],
 "metadata": {
  "kernelspec": {
   "display_name": "Python 3 (ipykernel)",
   "language": "python",
   "name": "python3"
  },
  "language_info": {
   "codemirror_mode": {
    "name": "ipython",
    "version": 3
   },
   "file_extension": ".py",
   "mimetype": "text/x-python",
   "name": "python",
   "nbconvert_exporter": "python",
   "pygments_lexer": "ipython3",
   "version": "3.9.10"
  }
 },
 "nbformat": 4,
 "nbformat_minor": 1
}
