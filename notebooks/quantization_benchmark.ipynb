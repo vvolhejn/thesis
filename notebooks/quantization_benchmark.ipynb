{
 "cells": [
  {
   "cell_type": "code",
   "execution_count": null,
   "metadata": {},
   "outputs": [],
   "source": [
    "%load_ext autoreload\n",
    "%autoreload 2\n",
    "\n",
    "# White background for matplotlib plots\n",
    "# %config InlineBackend.print_figure_kwargs={'facecolor': \"w\"}\n",
    "\n",
    "import numpy as np\n",
    "import tensorflow as tf\n",
    "import torch\n",
    "import tqdm.notebook as tqdm\n",
    "import pandas as pd\n",
    "\n",
    "import thesis.quantization_benchmark as qb\n",
    "\n",
    "import matplotlib.pyplot as plt\n",
    "plt.rcParams['figure.figsize'] = [10, 5]\n",
    "\n",
    "import seaborn as sns\n",
    "\n",
    "# %matplotlib widget"
   ]
  },
  {
   "cell_type": "code",
   "execution_count": null,
   "metadata": {
    "pycharm": {
     "name": "#%%\n"
    }
   },
   "outputs": [],
   "source": [
    "df = pd.read_csv(\"/Volumes/euler/benchmark_data/0520_dense.csv\")\n",
    "df = df.drop(columns={\"Unnamed: 0\"})\n",
    "\n",
    "g = sns.relplot(\n",
    "    data=df,\n",
    "    hue=\"name\",\n",
    "    x=\"network_size\",\n",
    "    y=\"inference_time\",\n",
    "    kind=\"line\",\n",
    "#     ci=\"sd\",\n",
    ")\n",
    "g.set(title=\"Dense\", yscale=\"log\")"
   ]
  },
  {
   "cell_type": "code",
   "execution_count": null,
   "metadata": {},
   "outputs": [],
   "source": [
    "df = pd.read_csv(\"/Volumes/euler/benchmark_data/0520_dense_3_layer.csv\")\n",
    "df = df.drop(columns={\"Unnamed: 0\"})\n",
    "\n",
    "g = sns.relplot(\n",
    "    data=df,\n",
    "    hue=\"name\",\n",
    "    x=\"network_size\",\n",
    "    y=\"inference_time\",\n",
    "    kind=\"line\",\n",
    "#     ci=\"sd\",\n",
    ")\n",
    "g.set(title=\"Dense - 3 layers\", yscale=\"log\")"
   ]
  },
  {
   "cell_type": "code",
   "execution_count": null,
   "metadata": {},
   "outputs": [],
   "source": [
    "df = pd.read_csv(\"/Volumes/euler/benchmark_data/0520_cnn_1_layer.csv\")\n",
    "df = df.drop(columns={\"Unnamed: 0\"})\n",
    "\n",
    "g = sns.relplot(\n",
    "    data=df,\n",
    "    hue=\"name\",\n",
    "    x=\"network_size\",\n",
    "    y=\"inference_time\",\n",
    "    kind=\"line\",\n",
    "#     ci=\"sd\",\n",
    ")\n",
    "g.set(title=\"Dense\", yscale=\"log\")"
   ]
  },
  {
   "cell_type": "code",
   "execution_count": null,
   "metadata": {},
   "outputs": [],
   "source": [
    "df = pd.read_csv(\"/Volumes/euler/benchmark_data/0520_cnn_3_layer.csv\")\n",
    "df = df.drop(columns={\"Unnamed: 0\"})\n",
    "\n",
    "g = sns.relplot(\n",
    "    data=df,\n",
    "    hue=\"name\",\n",
    "    x=\"network_size\",\n",
    "    y=\"inference_time\",\n",
    "    kind=\"line\",\n",
    "#     ci=\"sd\",\n",
    ")\n",
    "g.set(title=\"CNN 3 layers\", yscale=\"log\")"
   ]
  },
  {
   "cell_type": "code",
   "execution_count": null,
   "metadata": {},
   "outputs": [],
   "source": [
    "df = pd.read_csv(\"/Volumes/euler/benchmark_data/0520_dilated_cnn_small.csv\")\n",
    "df = df.drop(columns={\"Unnamed: 0\"})\n",
    "\n",
    "g = sns.relplot(\n",
    "    data=df,\n",
    "    hue=\"name\",\n",
    "    x=\"network_size\",\n",
    "    y=\"inference_time\",\n",
    "    kind=\"line\",\n",
    "#     ci=\"sd\",\n",
    ")\n",
    "g.set(title=\"Dense\", yscale=\"log\")"
   ]
  },
  {
   "cell_type": "code",
   "execution_count": null,
   "metadata": {},
   "outputs": [],
   "source": [
    "df"
   ]
  },
  {
   "cell_type": "code",
   "execution_count": null,
   "metadata": {},
   "outputs": [],
   "source": [
    "df = pd.read_csv(\"/Volumes/euler/benchmark_data/0520_dilated_cnn_1_layer.csv\")\n",
    "df = df.drop(columns={\"Unnamed: 0\"})\n",
    "\n",
    "g = sns.relplot(\n",
    "    data=df,\n",
    "    hue=\"name\",\n",
    "    x=\"network_size\",\n",
    "    y=\"inference_time\",\n",
    "    kind=\"line\",\n",
    "#     ci=\"sd\",\n",
    ")\n",
    "g.set(title=\"Dilated CNN - 1 layer\", yscale=\"log\")"
   ]
  },
  {
   "cell_type": "code",
   "execution_count": null,
   "metadata": {},
   "outputs": [],
   "source": [
    "df = pd.read_csv(\"/Volumes/euler/benchmark_data/0520_dilated_cnn_3_layers.csv\")\n",
    "df = df.drop(columns={\"Unnamed: 0\"})\n",
    "\n",
    "g = sns.relplot(\n",
    "    data=df,\n",
    "    hue=\"name\",\n",
    "    x=\"network_size\",\n",
    "    y=\"inference_time\",\n",
    "    kind=\"line\",\n",
    "#     ci=\"sd\",\n",
    ")\n",
    "g.set(title=\"Dilated CNN - 3 layers\", yscale=\"log\")"
   ]
  },
  {
   "cell_type": "markdown",
   "metadata": {},
   "source": [
    "## ----"
   ]
  },
  {
   "cell_type": "code",
   "execution_count": null,
   "metadata": {
    "pycharm": {
     "name": "#%%\n"
    }
   },
   "outputs": [],
   "source": [
    "import pandas as pd\n",
    "import seaborn as sns\n",
    "\n",
    "df = pd.concat(runs_per_size)\n",
    "# df.to_csv(\"../data/benchmarks/0518-dense-timing-2.csv\")"
   ]
  },
  {
   "cell_type": "code",
   "execution_count": null,
   "metadata": {
    "pycharm": {
     "name": "#%%\n"
    }
   },
   "outputs": [],
   "source": [
    "times = df.groupby([\"name\", \"network_size\"]).agg({\"inference_time\": \"mean\"})\n",
    "times[\"relative_time\"] = 0.0\n",
    "\n",
    "for _, row in times.iterrows():\n",
    "    row[\"relative_time\"] = row[\"inference_time\"] / times.loc[(\"ONNXRuntime\", row.name[1]), \"inference_time\"]\n",
    "\n",
    "times = times.reset_index()\n",
    "times"
   ]
  },
  {
   "cell_type": "code",
   "execution_count": null,
   "metadata": {
    "pycharm": {
     "name": "#%%\n"
    }
   },
   "outputs": [],
   "source": [
    "df"
   ]
  },
  {
   "cell_type": "code",
   "execution_count": null,
   "metadata": {
    "pycharm": {
     "name": "#%%\n"
    }
   },
   "outputs": [],
   "source": []
  },
  {
   "cell_type": "code",
   "execution_count": null,
   "metadata": {
    "pycharm": {
     "name": "#%%\n"
    }
   },
   "outputs": [],
   "source": [
    "runs_per_size = []\n",
    "n_sizes = 4\n",
    "\n",
    "for i in tqdm.trange(n_sizes):\n",
    "    size = 8 * 2 ** i\n",
    "    n_channels = 64\n",
    "\n",
    "    cnn_keras = tf.keras.Sequential(\n",
    "        [\n",
    "            tf.keras.layers.Input((size, size, 3)),\n",
    "            tf.keras.layers.Conv2D(filters=n_channels, kernel_size=3, activation=tf.nn.relu),\n",
    "            tf.keras.layers.Conv2D(filters=n_channels, kernel_size=3, activation=tf.nn.relu),\n",
    "            tf.keras.layers.MaxPooling2D(size - 4),\n",
    "        ]\n",
    "    )\n",
    "\n",
    "    cnn_torch = torch.nn.Sequential(\n",
    "        torch.nn.Conv2d(in_channels=3, out_channels=n_channels, kernel_size=3),\n",
    "        torch.nn.ReLU(),\n",
    "        torch.nn.Conv2d(in_channels=n_channels, out_channels=n_channels, kernel_size=3),\n",
    "        torch.nn.ReLU(),\n",
    "        torch.nn.MaxPool2d(size - 4),\n",
    "    )\n",
    "\n",
    "    runtimes = qb.get_runtimes(good_only=True, unsigned_weights=True)\n",
    "\n",
    "    runs = qb.benchmark(cnn_keras, cnn_torch, runtimes, n_iterations=500)\n",
    "    runs[\"network_size\"] = i\n",
    "    runs_per_size.append(runs)"
   ]
  },
  {
   "cell_type": "code",
   "execution_count": null,
   "metadata": {
    "pycharm": {
     "name": "#%%\n"
    }
   },
   "outputs": [],
   "source": [
    "df_cnn = pd.concat(runs_per_size)"
   ]
  },
  {
   "cell_type": "code",
   "execution_count": null,
   "metadata": {
    "pycharm": {
     "name": "#%%\n"
    }
   },
   "outputs": [],
   "source": [
    "df_cnn.to_csv(\"../data/benchmarks/0518-cnn-timing-2.csv\")"
   ]
  },
  {
   "cell_type": "code",
   "execution_count": null,
   "metadata": {
    "pycharm": {
     "name": "#%%\n"
    }
   },
   "outputs": [],
   "source": [
    "times_cnn = df_cnn.groupby([\"name\", \"network_size\"]).agg({\"inference_time\": \"mean\"})\n",
    "times_cnn[\"relative_time\"] = 0.0\n",
    "\n",
    "for _, row in times_cnn.iterrows():\n",
    "    row[\"relative_time\"] = row[\"inference_time\"] / times_cnn.loc[(\"ONNXRuntime\", row.name[1]), \"inference_time\"]\n",
    "\n",
    "times_cnn = times_cnn.reset_index()\n",
    "times_cnn"
   ]
  },
  {
   "cell_type": "code",
   "execution_count": null,
   "metadata": {
    "pycharm": {
     "name": "#%%\n"
    }
   },
   "outputs": [],
   "source": [
    "g = sns.relplot(data=times_cnn, hue=\"name\", x=\"network_size\", y=\"relative_time\", kind=\"line\")\n",
    "# g.set(yscale=\"log\")\n",
    "g.set(title=\"CNN\")"
   ]
  },
  {
   "cell_type": "code",
   "execution_count": null,
   "metadata": {
    "pycharm": {
     "name": "#%%\n"
    }
   },
   "outputs": [],
   "source": [
    "import seaborn as sns\n",
    "\n",
    "groups = [\"ONNXRuntime\", \"OpenVINO\", \"TFLite\", \"TorchScript\"]\n",
    "\n",
    "for group in groups:\n",
    "    filtered = times_cnn\n",
    "    # filtered = filtered.loc[times[\"inference_time\"] < 0.005]\n",
    "    filtered = filtered.loc[filtered[\"name\"].str.startswith(group)]\n",
    "    filtered = filtered.loc[~filtered[\"name\"].str.contains(\"_openvino\")]\n",
    "    filtered = filtered.loc[~filtered[\"name\"].str.contains(\"static_qoperator\")]\n",
    "\n",
    "    sns.relplot(data=filtered, hue=\"name\", x=\"network_size\", y=\"relative_time\", kind=\"line\")\n",
    "    plt.title(group)"
   ]
  },
  {
   "cell_type": "code",
   "execution_count": null,
   "metadata": {
    "pycharm": {
     "name": "#%%\n"
    }
   },
   "outputs": [],
   "source": [
    "len(runs_per_size)"
   ]
  },
  {
   "cell_type": "code",
   "execution_count": null,
   "metadata": {},
   "outputs": [],
   "source": []
  },
  {
   "cell_type": "code",
   "execution_count": null,
   "metadata": {},
   "outputs": [],
   "source": [
    "import tensorflow as tf\n",
    "import ddsp.training"
   ]
  },
  {
   "cell_type": "code",
   "execution_count": null,
   "metadata": {},
   "outputs": [],
   "source": [
    "dec = ddsp.training.nn.DilatedConvStack(\n",
    "    ch=256,\n",
    "    layers_per_stack=5,\n",
    "    stacks=1,\n",
    "    kernel_size=3,\n",
    "    dilation=2,\n",
    ")\n",
    "\n",
    "model = tf.keras.Sequential([\n",
    "    tf.keras.layers.Input((64000, 1, 1)),\n",
    "    dec,\n",
    "])\n",
    "\n",
    "# .decoders.DilatedConvDecoder(\n",
    "#     ch=256,\n",
    "#     kernel_size=3,\n",
    "#     layers_per_stack=5,\n",
    "#     stacks=1\n",
    "# )"
   ]
  },
  {
   "cell_type": "code",
   "execution_count": null,
   "metadata": {},
   "outputs": [],
   "source": [
    "model(np.ones((1, 64000, 1, 1)))"
   ]
  },
  {
   "cell_type": "code",
   "execution_count": null,
   "metadata": {},
   "outputs": [],
   "source": [
    "model.input.shape"
   ]
  },
  {
   "cell_type": "code",
   "execution_count": null,
   "metadata": {},
   "outputs": [],
   "source": []
  },
  {
   "cell_type": "code",
   "execution_count": null,
   "metadata": {
    "pycharm": {
     "name": "#%%\n"
    }
   },
   "outputs": [],
   "source": []
  }
 ],
 "metadata": {
  "kernelspec": {
   "display_name": "Python 3 (ipykernel)",
   "language": "python",
   "name": "python3"
  },
  "language_info": {
   "codemirror_mode": {
    "name": "ipython",
    "version": 3
   },
   "file_extension": ".py",
   "mimetype": "text/x-python",
   "name": "python",
   "nbconvert_exporter": "python",
   "pygments_lexer": "ipython3",
   "version": "3.9.10"
  }
 },
 "nbformat": 4,
 "nbformat_minor": 1
}
