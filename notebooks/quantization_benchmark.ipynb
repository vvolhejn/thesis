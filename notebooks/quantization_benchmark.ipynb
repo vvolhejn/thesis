{
 "cells": [
  {
   "cell_type": "code",
   "execution_count": null,
   "metadata": {},
   "outputs": [],
   "source": [
    "%load_ext autoreload\n",
    "%autoreload 2\n",
    "\n",
    "# White background for matplotlib plots\n",
    "%config InlineBackend.print_figure_kwargs={'facecolor': \"w\"}\n",
    "\n",
    "import numpy as np\n",
    "import tensorflow as tf\n",
    "import torch\n",
    "import tqdm.notebook as tqdm\n",
    "\n",
    "import thesis.quantization_benchmark as qb"
   ]
  },
  {
   "cell_type": "code",
   "execution_count": null,
   "metadata": {
    "pycharm": {
     "name": "#%%\n"
    }
   },
   "outputs": [],
   "source": [
    "input_shape = (32, 32, 3)\n",
    "\n",
    "dense_keras = tf.keras.Sequential(\n",
    "    [\n",
    "        tf.keras.layers.Input(input_shape),\n",
    "        # tf.keras.layers.Conv2D(filters=64, kernel_size=3, activation=tf.nn.relu),\n",
    "        # tf.keras.layers.GlobalMaxPooling2D(),\n",
    "        tf.keras.layers.Flatten(),\n",
    "        tf.keras.layers.Dense(256, activation=tf.nn.relu),\n",
    "        tf.keras.layers.Dense(128),\n",
    "    ]\n",
    ")\n",
    "\n",
    "dense_torch = torch.nn.Sequential(\n",
    "    torch.nn.Flatten(),\n",
    "    torch.nn.Linear(in_features=np.product(input_shape), out_features=256),\n",
    "    torch.nn.ReLU(),\n",
    "    torch.nn.Linear(in_features=256, out_features=128),\n",
    ")\n",
    "\n",
    "runtimes = [\n",
    "    qb.TensorFlow(),\n",
    "    qb.PyTorch(quantization_mode=\"off\", use_torchscript=True),\n",
    "    qb.PyTorch(quantization_mode=\"dynamic\", use_torchscript=True),\n",
    "    qb.PyTorch(quantization_mode=\"static\", use_torchscript=True),\n",
    "    qb.TFLite(quantization_mode=\"off\"),\n",
    "    qb.TFLite(quantization_mode=\"dynamic\"),\n",
    "    qb.TFLite(quantization_mode=\"static\"),\n",
    "    qb.ONNXRuntime(quantization_mode=\"off\"),\n",
    "    qb.ONNXRuntime(quantization_mode=\"dynamic\"),\n",
    "    qb.ONNXRuntime(quantization_mode=\"static_qoperator\"),\n",
    "    qb.ONNXRuntime(quantization_mode=\"static_qdq\"),\n",
    "    qb.ONNXRuntimeFromPyTorch(quantization_mode=\"off\"),\n",
    "    qb.ONNXRuntimeFromPyTorch(quantization_mode=\"dynamic\"),\n",
    "    qb.ONNXRuntimeFromPyTorch(quantization_mode=\"static_qoperator\"),\n",
    "    qb.ONNXRuntimeFromPyTorch(quantization_mode=\"static_qdq\"),\n",
    "    qb.OpenVINO(quantization_mode=\"off\"),\n",
    "    qb.OpenVINO(quantization_mode=\"dynamic\"),\n",
    "    # qb.OpenVINO(quantization_mode=\"static_qoperator\"), # Doesn't work\n",
    "    qb.OpenVINO(quantization_mode=\"static_qdq\"),\n",
    "]\n",
    "\n",
    "times = qb.benchmark(dense_keras, dense_torch, runtimes, n_iterations=1000);"
   ]
  },
  {
   "cell_type": "code",
   "execution_count": null,
   "metadata": {
    "pycharm": {
     "name": "#%%\n"
    }
   },
   "outputs": [],
   "source": [
    "qb.plot_runs(times)"
   ]
  },
  {
   "cell_type": "code",
   "execution_count": null,
   "metadata": {
    "pycharm": {
     "name": "#%%\n"
    }
   },
   "outputs": [],
   "source": [
    "df = times.groupby(\"name\").agg({\"loss\": [\"mean\", \"std\"], \"inference_time\": [\"mean\", \"std\"], \"iteration\": \"count\"})\n",
    "df.columns = ['_'.join(col).strip() for col in df.columns.values]\n",
    "df"
   ]
  },
  {
   "cell_type": "markdown",
   "metadata": {
    "pycharm": {
     "name": "#%% md\n"
    }
   },
   "source": [
    "## CNN model"
   ]
  },
  {
   "cell_type": "code",
   "execution_count": null,
   "metadata": {
    "pycharm": {
     "name": "#%%\n"
    }
   },
   "outputs": [],
   "source": [
    "cnn_keras = tf.keras.Sequential(\n",
    "    [\n",
    "        tf.keras.layers.Input((32, 32, 3)),\n",
    "        tf.keras.layers.Conv2D(filters=64, kernel_size=3, activation=tf.nn.relu),\n",
    "        tf.keras.layers.Conv2D(filters=64, kernel_size=3, activation=tf.nn.relu),\n",
    "        # tf.keras.layers.Dense(128),\n",
    "        tf.keras.layers.MaxPooling2D(32 - 4),\n",
    "    ]\n",
    ")\n",
    "\n",
    "cnn_torch = torch.nn.Sequential(\n",
    "    torch.nn.Conv2d(in_channels=3, out_channels=64, kernel_size=3),\n",
    "    torch.nn.ReLU(),\n",
    "    torch.nn.Conv2d(in_channels=64, out_channels=64, kernel_size=3),\n",
    "    torch.nn.ReLU(),\n",
    "    torch.nn.MaxPool2d(32 - 4),\n",
    ")\n",
    "\n",
    "runtimes = [\n",
    "    qb.TensorFlow(),\n",
    "    qb.PyTorch(quantization_mode=\"off\", use_torchscript=True),\n",
    "    qb.PyTorch(quantization_mode=\"dynamic\", use_torchscript=True),\n",
    "    qb.PyTorch(quantization_mode=\"static\", use_torchscript=True),\n",
    "    qb.TFLite(quantization_mode=\"off\"),\n",
    "    qb.TFLite(quantization_mode=\"dynamic\"),\n",
    "    qb.TFLite(quantization_mode=\"static\"),\n",
    "    qb.ONNXRuntime(quantization_mode=\"off\"),\n",
    "    qb.ONNXRuntime(quantization_mode=\"dynamic\", unsigned_weights=True),\n",
    "    qb.ONNXRuntime(quantization_mode=\"static_qoperator\"),\n",
    "    qb.ONNXRuntime(quantization_mode=\"static_qdq\"),\n",
    "    qb.ONNXRuntimeFromPyTorch(quantization_mode=\"off\"),\n",
    "    qb.ONNXRuntimeFromPyTorch(quantization_mode=\"dynamic\", unsigned_weights=True),\n",
    "    qb.ONNXRuntimeFromPyTorch(quantization_mode=\"static_qoperator\"),\n",
    "    qb.ONNXRuntimeFromPyTorch(quantization_mode=\"static_qdq\"),\n",
    "    qb.OpenVINO(quantization_mode=\"off\"),\n",
    "    qb.OpenVINO(quantization_mode=\"dynamic\"),\n",
    "    # qb.OpenVINO(quantization_mode=\"static_qoperator\"), # Doesn't work\n",
    "    qb.OpenVINO(quantization_mode=\"static_qdq\"),\n",
    "]\n",
    "\n",
    "qb.benchmark(cnn_keras, cnn_torch, runtimes, n_iterations=300);"
   ]
  },
  {
   "cell_type": "code",
   "execution_count": null,
   "metadata": {
    "pycharm": {
     "name": "#%%\n"
    }
   },
   "outputs": [],
   "source": [
    "def get_runtimes(unsigned_weights=False):\n",
    "    runtimes = [\n",
    "        qb.TensorFlow(),\n",
    "        qb.PyTorch(quantization_mode=\"off\", use_torchscript=True),\n",
    "        qb.PyTorch(quantization_mode=\"dynamic\", use_torchscript=True),\n",
    "        qb.PyTorch(quantization_mode=\"static\", use_torchscript=True),\n",
    "        qb.TFLite(quantization_mode=\"off\"),\n",
    "        # qb.TFLite(quantization_mode=\"dynamic\"), # bad for CNN\n",
    "        # qb.TFLite(quantization_mode=\"static\"), # bad for CNN\n",
    "        qb.ONNXRuntime(quantization_mode=\"off\"),\n",
    "        qb.ONNXRuntime(quantization_mode=\"dynamic\", unsigned_weights=unsigned_weights),\n",
    "        # qb.ONNXRuntime(quantization_mode=\"static_qoperator\"), # bad\n",
    "        qb.ONNXRuntime(quantization_mode=\"static_qdq\"),\n",
    "        # These generally seem to be worse\n",
    "        # qb.ONNXRuntimeFromPyTorch(quantization_mode=\"off\"),\n",
    "        # qb.ONNXRuntimeFromPyTorch(quantization_mode=\"dynamic\", unsigned_weights=unsigned_weights),\n",
    "        # qb.ONNXRuntimeFromPyTorch(quantization_mode=\"static_qoperator\"), # bad\n",
    "        # qb.ONNXRuntimeFromPyTorch(quantization_mode=\"static_qdq\"),\n",
    "        qb.OpenVINO(quantization_mode=\"off\"),\n",
    "        # qb.OpenVINO(quantization_mode=\"dynamic\", unsigned_weights=unsigned_weights), # bad\n",
    "        # qb.OpenVINO(quantization_mode=\"static_qoperator\"), # Doesn't work\n",
    "        qb.OpenVINO(quantization_mode=\"static_qdq\"),\n",
    "    ]\n",
    "\n",
    "    return runtimes"
   ]
  },
  {
   "cell_type": "code",
   "execution_count": null,
   "metadata": {
    "pycharm": {
     "name": "#%%\n"
    }
   },
   "outputs": [],
   "source": [
    "runs_per_size = []\n",
    "n_sizes = 10\n",
    "\n",
    "for i in tqdm.trange(n_sizes):\n",
    "    input_shape = (32, 32, 3)\n",
    "    out_features = 2 ** (i + 1)\n",
    "\n",
    "    dense_keras = tf.keras.Sequential(\n",
    "        [\n",
    "            tf.keras.layers.Input(input_shape),\n",
    "            tf.keras.layers.Flatten(),\n",
    "            tf.keras.layers.Dense(out_features, activation=tf.nn.relu),\n",
    "            tf.keras.layers.Dense(1),\n",
    "        ]\n",
    "    )\n",
    "\n",
    "    dense_torch = torch.nn.Sequential(\n",
    "        torch.nn.Flatten(),\n",
    "        torch.nn.Linear(in_features=np.product(input_shape), out_features=out_features),\n",
    "        torch.nn.ReLU(),\n",
    "        torch.nn.Linear(in_features=out_features, out_features=1),\n",
    "    )\n",
    "\n",
    "    runtimes = get_runtimes()\n",
    "\n",
    "    runs = qb.benchmark(dense_keras, dense_torch, runtimes, n_iterations=500)\n",
    "    runs[\"network_size\"] = i\n",
    "    runs_per_size.append(runs)"
   ]
  },
  {
   "cell_type": "code",
   "execution_count": null,
   "metadata": {
    "pycharm": {
     "name": "#%%\n"
    }
   },
   "outputs": [],
   "source": [
    "df = pd.concat(runs_per_size)\n",
    "df.to_csv(\"../data/benchmarks/0518-dense-timing-2.csv\")"
   ]
  },
  {
   "cell_type": "code",
   "execution_count": null,
   "metadata": {
    "pycharm": {
     "name": "#%%\n"
    }
   },
   "outputs": [],
   "source": [
    "times = df.groupby([\"name\", \"network_size\"]).agg({\"inference_time\": \"mean\"})\n",
    "times[\"relative_time\"] = 0.0\n",
    "\n",
    "for _, row in times.iterrows():\n",
    "    row[\"relative_time\"] = row[\"inference_time\"] / times.loc[(\"ONNXRuntime\", row.name[1]), \"inference_time\"]\n",
    "\n",
    "times = times.reset_index()\n",
    "times"
   ]
  },
  {
   "cell_type": "code",
   "execution_count": null,
   "metadata": {
    "pycharm": {
     "name": "#%%\n"
    }
   },
   "outputs": [],
   "source": [
    "g = sns.relplot(data=times.loc[times[\"name\"] != \"TensorFlow\"], hue=\"name\", x=\"network_size\", y=\"relative_time\", kind=\"line\")\n",
    "g.set(title=\"Dense\")"
   ]
  },
  {
   "cell_type": "code",
   "execution_count": null,
   "metadata": {
    "pycharm": {
     "name": "#%%\n"
    }
   },
   "outputs": [],
   "source": [
    "import seaborn as sns\n",
    "\n",
    "groups = [\"ONNXRuntime\", \"OpenVINO\", \"TFLite\", \"TorchScript\"]\n",
    "\n",
    "for group in groups:\n",
    "    filtered = times\n",
    "    # filtered = filtered.loc[times[\"inference_time\"] < 0.005]\n",
    "    filtered = filtered.loc[filtered[\"name\"].str.startswith(group)]\n",
    "    filtered = filtered.loc[~filtered[\"name\"].str.contains(\"_openvino\")]\n",
    "    filtered = filtered.loc[~filtered[\"name\"].str.contains(\"static_qoperator\")]\n",
    "\n",
    "    sns.relplot(data=filtered, hue=\"name\", x=\"network_size\", y=\"relative_time\", kind=\"line\")\n",
    "    plt.title(group)"
   ]
  },
  {
   "cell_type": "code",
   "execution_count": null,
   "metadata": {
    "pycharm": {
     "name": "#%%\n"
    }
   },
   "outputs": [],
   "source": [
    "df"
   ]
  },
  {
   "cell_type": "code",
   "execution_count": null,
   "metadata": {
    "pycharm": {
     "name": "#%%\n"
    }
   },
   "outputs": [],
   "source": []
  },
  {
   "cell_type": "code",
   "execution_count": null,
   "metadata": {
    "pycharm": {
     "name": "#%%\n"
    }
   },
   "outputs": [],
   "source": [
    "runs_per_size = []\n",
    "n_sizes = 4\n",
    "\n",
    "for i in tqdm.trange(n_sizes):\n",
    "    size = 8 * 2 ** i\n",
    "    n_channels = 64\n",
    "\n",
    "    cnn_keras = tf.keras.Sequential(\n",
    "        [\n",
    "            tf.keras.layers.Input((size, size, 3)),\n",
    "            tf.keras.layers.Conv2D(filters=n_channels, kernel_size=3, activation=tf.nn.relu),\n",
    "            tf.keras.layers.Conv2D(filters=n_channels, kernel_size=3, activation=tf.nn.relu),\n",
    "            tf.keras.layers.MaxPooling2D(size - 4),\n",
    "        ]\n",
    "    )\n",
    "\n",
    "    cnn_torch = torch.nn.Sequential(\n",
    "        torch.nn.Conv2d(in_channels=3, out_channels=n_channels, kernel_size=3),\n",
    "        torch.nn.ReLU(),\n",
    "        torch.nn.Conv2d(in_channels=n_channels, out_channels=n_channels, kernel_size=3),\n",
    "        torch.nn.ReLU(),\n",
    "        torch.nn.MaxPool2d(size - 4),\n",
    "    )\n",
    "\n",
    "    runtimes = qb.get_runtimes(good_only=True, unsigned_weights=True)\n",
    "\n",
    "    runs = qb.benchmark(cnn_keras, cnn_torch, runtimes, n_iterations=500)\n",
    "    runs[\"network_size\"] = i\n",
    "    runs_per_size.append(runs)"
   ]
  },
  {
   "cell_type": "code",
   "execution_count": null,
   "metadata": {
    "pycharm": {
     "name": "#%%\n"
    }
   },
   "outputs": [],
   "source": [
    "df_cnn = pd.concat(runs_per_size)"
   ]
  },
  {
   "cell_type": "code",
   "execution_count": null,
   "metadata": {
    "pycharm": {
     "name": "#%%\n"
    }
   },
   "outputs": [],
   "source": [
    "df_cnn.to_csv(\"../data/benchmarks/0518-cnn-timing-2.csv\")"
   ]
  },
  {
   "cell_type": "code",
   "execution_count": null,
   "metadata": {
    "pycharm": {
     "name": "#%%\n"
    }
   },
   "outputs": [],
   "source": [
    "times_cnn = df_cnn.groupby([\"name\", \"network_size\"]).agg({\"inference_time\": \"mean\"})\n",
    "times_cnn[\"relative_time\"] = 0.0\n",
    "\n",
    "for _, row in times_cnn.iterrows():\n",
    "    row[\"relative_time\"] = row[\"inference_time\"] / times_cnn.loc[(\"ONNXRuntime\", row.name[1]), \"inference_time\"]\n",
    "\n",
    "times_cnn = times_cnn.reset_index()\n",
    "times_cnn"
   ]
  },
  {
   "cell_type": "code",
   "execution_count": null,
   "metadata": {
    "pycharm": {
     "name": "#%%\n"
    }
   },
   "outputs": [],
   "source": [
    "g = sns.relplot(data=times_cnn, hue=\"name\", x=\"network_size\", y=\"relative_time\", kind=\"line\")\n",
    "# g.set(yscale=\"log\")\n",
    "g.set(title=\"CNN\")"
   ]
  },
  {
   "cell_type": "code",
   "execution_count": null,
   "metadata": {
    "pycharm": {
     "name": "#%%\n"
    }
   },
   "outputs": [],
   "source": [
    "import seaborn as sns\n",
    "\n",
    "groups = [\"ONNXRuntime\", \"OpenVINO\", \"TFLite\", \"TorchScript\"]\n",
    "\n",
    "for group in groups:\n",
    "    filtered = times_cnn\n",
    "    # filtered = filtered.loc[times[\"inference_time\"] < 0.005]\n",
    "    filtered = filtered.loc[filtered[\"name\"].str.startswith(group)]\n",
    "    filtered = filtered.loc[~filtered[\"name\"].str.contains(\"_openvino\")]\n",
    "    filtered = filtered.loc[~filtered[\"name\"].str.contains(\"static_qoperator\")]\n",
    "\n",
    "    sns.relplot(data=filtered, hue=\"name\", x=\"network_size\", y=\"relative_time\", kind=\"line\")\n",
    "    plt.title(group)"
   ]
  },
  {
   "cell_type": "code",
   "execution_count": null,
   "metadata": {
    "pycharm": {
     "name": "#%%\n"
    }
   },
   "outputs": [],
   "source": [
    "len(runs_per_size)"
   ]
  },
  {
   "cell_type": "code",
   "execution_count": null,
   "metadata": {
    "pycharm": {
     "name": "#%%\n"
    }
   },
   "outputs": [],
   "source": []
  }
 ],
 "metadata": {
  "kernelspec": {
   "display_name": "Python 3 (ipykernel)",
   "language": "python",
   "name": "python3"
  },
  "language_info": {
   "codemirror_mode": {
    "name": "ipython",
    "version": 3
   },
   "file_extension": ".py",
   "mimetype": "text/x-python",
   "name": "python",
   "nbconvert_exporter": "python",
   "pygments_lexer": "ipython3",
   "version": "3.9.10"
  }
 },
 "nbformat": 4,
 "nbformat_minor": 1
}
