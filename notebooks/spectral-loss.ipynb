{
 "cells": [
  {
   "cell_type": "markdown",
   "metadata": {
    "pycharm": {
     "name": "#%% md\n"
    }
   },
   "source": [
    "Why does the RAVE-style decoder produce metallic artifacts? Could it be overfitting to the loss?"
   ]
  },
  {
   "cell_type": "code",
   "execution_count": null,
   "metadata": {
    "pycharm": {
     "name": "#%%\n"
    }
   },
   "outputs": [],
   "source": [
    "%load_ext autoreload\n",
    "%autoreload 2\n",
    "import gin\n",
    "\n",
    "gin.enter_interactive_mode()\n",
    "\n",
    "import tensorflow as tf\n",
    "from thesis.notebook_util import play_audio, audio_bytes_to_np, specplot\n",
    "import tqdm.notebook as tqdm\n",
    "import numpy as np\n",
    "import matplotlib.pyplot as plt\n",
    "\n",
    "from ddsp.losses import SpectralLoss"
   ]
  },
  {
   "cell_type": "code",
   "execution_count": null,
   "metadata": {
    "pycharm": {
     "name": "#%%\n"
    }
   },
   "outputs": [],
   "source": [
    "def read_wav(path):\n",
    "    with open(path, \"rb\") as f:\n",
    "        audio = audio_bytes_to_np(f.read())\n",
    "\n",
    "    n = len(audio)\n",
    "    audio_synth = audio[:n // 2]\n",
    "    audio_true = audio[n // 2:]\n",
    "\n",
    "    return audio_synth, audio_true\n",
    "\n",
    "\n",
    "def compare_losses(audio_synth, audio_true, n=256, crop_back=False, max_random_crop=0):\n",
    "    # Defaults from DDSP\n",
    "    loss_op = SpectralLoss(\n",
    "        logmag_weight=1.0, mag_weight=1.0, loss_type=\"L1\", max_random_crop=max_random_crop\n",
    "    )\n",
    "\n",
    "    # audio_synth = tf.convert_to_tensor(audio_synth)\n",
    "    # audio_true = tf.convert_to_tensor(audio_true)\n",
    "\n",
    "    losses = []\n",
    "    for i in tqdm.trange(n):\n",
    "        if crop_back:\n",
    "            losses.append(loss_op(audio_synth[i:i + 2 ** 14], audio_true[i:i + 2 ** 14]))\n",
    "        else:\n",
    "            losses.append(loss_op(audio_synth[i:], audio_true[i:]))\n",
    "\n",
    "    return np.array(losses)"
   ]
  },
  {
   "cell_type": "code",
   "execution_count": null,
   "metadata": {
    "pycharm": {
     "name": "#%%\n"
    }
   },
   "outputs": [],
   "source": [
    "def rave_vs_ddsp(**kwargs):\n",
    "    audio_synth, audio_true = read_wav(\"/Users/vaclav/prog/thesis/data/audio/reconstruction_rave.wav\")\n",
    "    losses_rave = compare_losses(audio_synth, audio_true, **kwargs)\n",
    "\n",
    "    audio_synth, audio_true = read_wav(\"/Users/vaclav/prog/thesis/data/audio/reconstruction_ddsp.wav\")\n",
    "    losses_ddsp = compare_losses(audio_synth, audio_true, **kwargs)\n",
    "\n",
    "    plt.plot(losses_rave)\n",
    "    plt.plot(losses_ddsp)\n",
    "    plt.show()\n",
    "    return losses_rave, losses_ddsp"
   ]
  },
  {
   "cell_type": "code",
   "execution_count": null,
   "metadata": {
    "pycharm": {
     "name": "#%%\n"
    }
   },
   "outputs": [],
   "source": [
    "rave_vs_ddsp(n=128, max_random_crop=512)"
   ]
  },
  {
   "cell_type": "code",
   "execution_count": null,
   "metadata": {
    "pycharm": {
     "name": "#%%\n"
    }
   },
   "outputs": [],
   "source": [
    "rave_vs_ddsp(n=128, max_random_crop=0)"
   ]
  },
  {
   "cell_type": "code",
   "execution_count": null,
   "metadata": {
    "pycharm": {
     "name": "#%%\n"
    }
   },
   "outputs": [],
   "source": [
    "loss_op(x, y)"
   ]
  },
  {
   "cell_type": "code",
   "execution_count": null,
   "metadata": {
    "pycharm": {
     "name": "#%%\n"
    }
   },
   "outputs": [],
   "source": [
    "loss_op = SpectralLoss(\n",
    "    logmag_weight=1.0, mag_weight=1.0, loss_type=\"L1\", max_random_crop=512\n",
    ")\n",
    "audio_synth, audio_true = read_wav(\"/Users/vaclav/prog/thesis/data/audio/reconstruction_rave.wav\")\n",
    "\n",
    "with tf.GradientTape() as tape:\n",
    "    a = tf.Variable(0.5)\n",
    "    x = tf.constant(audio_synth)\n",
    "    y = x * a\n",
    "    loss = loss_op(x, y)\n",
    "\n",
    "# Clip and apply gradients.\n",
    "# logging.info(\"Outputs:\", [(k, v.shape) for k, v in outputs.items()])\n",
    "\n",
    "grads = tape.gradient(loss, a)\n",
    "grads"
   ]
  },
  {
   "cell_type": "code",
   "execution_count": null,
   "metadata": {
    "pycharm": {
     "name": "#%%\n"
    }
   },
   "outputs": [],
   "source": []
  },
  {
   "cell_type": "code",
   "execution_count": null,
   "metadata": {
    "pycharm": {
     "name": "#%%\n"
    }
   },
   "outputs": [],
   "source": []
  },
  {
   "cell_type": "code",
   "execution_count": null,
   "metadata": {
    "pycharm": {
     "name": "#%%\n"
    }
   },
   "outputs": [],
   "source": [
    "audio_synth, audio_true = read_wav(\"/Users/vaclav/prog/thesis/data/audio/reconstruction_rave.wav\")"
   ]
  },
  {
   "cell_type": "code",
   "execution_count": null,
   "metadata": {
    "pycharm": {
     "name": "#%%\n"
    }
   },
   "outputs": [],
   "source": [
    "from random import random\n",
    "from scipy.signal import lfilter\n",
    "\n",
    "def random_angle(min_f=20, max_f=8000, sr=24000):\n",
    "    min_f = np.log(min_f)\n",
    "    max_f = np.log(max_f)\n",
    "    rand = np.exp(random() * (max_f - min_f) + min_f)\n",
    "    rand = 2 * np.pi * rand / sr\n",
    "    return rand\n",
    "\n",
    "\n",
    "def pole_to_z_filter(omega, amplitude=.9):\n",
    "    z0 = amplitude * np.exp(1j * omega)\n",
    "    a = [1, -2 * np.real(z0), abs(z0)**2]\n",
    "    b = [abs(z0)**2, -2 * np.real(z0), 1]\n",
    "    return b, a\n",
    "\n",
    "\n",
    "def random_phase_mangle(x, min_f, max_f, amp, sr):\n",
    "    angle = random_angle(min_f, max_f, sr)\n",
    "    print(angle)\n",
    "    angle = -np.pi / 2\n",
    "    b, a = pole_to_z_filter(angle, amp)\n",
    "    return lfilter(b, a, x)"
   ]
  },
  {
   "cell_type": "code",
   "execution_count": null,
   "metadata": {
    "pycharm": {
     "name": "#%%\n"
    }
   },
   "outputs": [],
   "source": [
    "audio_true_2 = random_phase_mangle(audio_true, 20, 2000, .99, 16000)\n",
    "plt.plot(audio_true[:100])\n",
    "plt.plot(audio_true_2[:100])"
   ]
  },
  {
   "cell_type": "code",
   "execution_count": null,
   "metadata": {
    "pycharm": {
     "name": "#%%\n"
    }
   },
   "outputs": [],
   "source": [
    "import librosa\n",
    "audio_true_3 = librosa.effects.pitch_shift(audio_true, sr=16000, n_steps=1)"
   ]
  },
  {
   "cell_type": "code",
   "execution_count": null,
   "metadata": {
    "pycharm": {
     "name": "#%%\n"
    }
   },
   "outputs": [],
   "source": [
    "play_audio(audio_true_3)"
   ]
  },
  {
   "cell_type": "code",
   "execution_count": null,
   "metadata": {
    "pycharm": {
     "name": "#%%\n"
    }
   },
   "outputs": [],
   "source": [
    "play_audio(audio_true_2)"
   ]
  },
  {
   "cell_type": "code",
   "execution_count": null,
   "metadata": {
    "pycharm": {
     "name": "#%%\n"
    }
   },
   "outputs": [],
   "source": []
  }
 ],
 "metadata": {
  "kernelspec": {
   "display_name": "Python 3",
   "language": "python",
   "name": "python3"
  },
  "language_info": {
   "codemirror_mode": {
    "name": "ipython",
    "version": 2
   },
   "file_extension": ".py",
   "mimetype": "text/x-python",
   "name": "python",
   "nbconvert_exporter": "python",
   "pygments_lexer": "ipython2",
   "version": "2.7.6"
  }
 },
 "nbformat": 4,
 "nbformat_minor": 0
}
