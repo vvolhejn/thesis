{
 "cells": [
  {
   "cell_type": "code",
   "execution_count": null,
   "metadata": {
    "pycharm": {
     "name": "#%%\n"
    }
   },
   "outputs": [],
   "source": [
    "import ddsp.training.models\n",
    "%load_ext autoreload\n",
    "%autoreload 2\n",
    "\n",
    "import gin\n",
    "import os\n",
    "\n",
    "gin.enter_interactive_mode()"
   ]
  },
  {
   "cell_type": "code",
   "execution_count": null,
   "metadata": {
    "pycharm": {
     "name": "#%%\n"
    }
   },
   "outputs": [],
   "source": [
    "import seaborn as sns\n",
    "sns.set()"
   ]
  },
  {
   "cell_type": "code",
   "execution_count": null,
   "metadata": {
    "pycharm": {
     "name": "#%%\n"
    }
   },
   "outputs": [],
   "source": [
    "base_dir = \"/Users/vaclav/prog/thesis/data/models\"\n",
    "good_model_name = \"0721-ddspae-cnn-8\"\n",
    "bad_model_name = \"0728-ddspae-cnn\"\n",
    "with gin.unlock_config():\n",
    "    gin.parse_config_file(os.path.join(base_dir, good_model_name, \"operative_config-0.gin\"))\n"
   ]
  },
  {
   "cell_type": "code",
   "execution_count": null,
   "metadata": {
    "pycharm": {
     "name": "#%%\n"
    }
   },
   "outputs": [],
   "source": [
    "import ddsp.training\n",
    "\n",
    "data_provider = ddsp.training.data.TFRecordProvider(\n",
    "    \"/Users/vaclav/prog/thesis/data/datasets/transfer4/transfer4.tfrecord*\",\n",
    "    frame_rate=50,\n",
    "    centered=True,\n",
    "    with_jukebox=False,\n",
    ")\n",
    "dataset = data_provider.get_batch(batch_size=1, shuffle=True, repeats=1)\n",
    "batch = next(iter(dataset))\n",
    "\n",
    "def load_model(name):\n",
    "\n",
    "    model = ddsp.training.models.get_model()\n",
    "    model.restore(os.path.join(base_dir, name))\n",
    "\n",
    "    model(batch)\n",
    "\n",
    "    return model"
   ]
  },
  {
   "cell_type": "code",
   "execution_count": null,
   "metadata": {
    "pycharm": {
     "name": "#%%\n"
    }
   },
   "outputs": [],
   "source": [
    "good_model = load_model(good_model_name)\n",
    "bad_model = load_model(bad_model_name)"
   ]
  },
  {
   "cell_type": "code",
   "execution_count": null,
   "metadata": {
    "pycharm": {
     "name": "#%%\n"
    }
   },
   "outputs": [],
   "source": [
    "import matplotlib.pyplot as plt\n",
    "plt.style.use({'figure.facecolor': 'gray'})\n",
    "\n",
    "assert len(good_model.decoder.weights) == len(bad_model.decoder.weights)\n",
    "\n",
    "for gw, bw in zip(good_model.decoder.weights, bad_model.decoder.weights):\n",
    "\n",
    "    print(gw.name, gw.numpy().reshape(-1)[:5])\n",
    "    if gw.numpy().size == 1:\n",
    "        plt.bar([gw.numpy(), bw.numpy()])\n",
    "    else:\n",
    "        # continue\n",
    "        fig, axes = plt.subplots(2, 1, sharex=True)\n",
    "\n",
    "        axes[0].hist(gw.numpy().reshape(-1), alpha=0.5)\n",
    "        axes[1].hist(bw.numpy().reshape(-1), alpha=0.5)\n",
    "        axes[0].set_title(gw.name)\n",
    "        axes[1].set_title(bw.name)\n",
    "        fig.tight_layout()\n",
    "    # print(gw.name, bw.name)\n",
    "    plt.show()"
   ]
  },
  {
   "cell_type": "code",
   "execution_count": null,
   "metadata": {
    "pycharm": {
     "name": "#%%\n"
    }
   },
   "outputs": [],
   "source": []
  },
  {
   "cell_type": "code",
   "execution_count": null,
   "metadata": {
    "pycharm": {
     "name": "#%%\n"
    }
   },
   "outputs": [],
   "source": [
    "import tensorflow as tf\n",
    "\n",
    "reader = tf.train.load_checkpoint(os.path.join(base_dir, good_model_name))\n",
    "shape_from_key = reader.get_variable_to_shape_map()\n",
    "dtype_from_key = reader.get_variable_to_dtype_map()\n",
    "\n",
    "for k in shape_from_key.keys():\n",
    "    if k.startswith(\"model/decoder\") and \"optimizer/\" not in k:\n",
    "        print(k, reader.get_tensor(k).reshape(-1)[:5])"
   ]
  },
  {
   "cell_type": "code",
   "execution_count": null,
   "metadata": {
    "pycharm": {
     "name": "#%%\n"
    }
   },
   "outputs": [],
   "source": []
  },
  {
   "cell_type": "code",
   "execution_count": null,
   "metadata": {
    "pycharm": {
     "name": "#%%\n"
    }
   },
   "outputs": [],
   "source": []
  }
 ],
 "metadata": {
  "kernelspec": {
   "display_name": "Python 3",
   "language": "python",
   "name": "python3"
  },
  "language_info": {
   "codemirror_mode": {
    "name": "ipython",
    "version": 2
   },
   "file_extension": ".py",
   "mimetype": "text/x-python",
   "name": "python",
   "nbconvert_exporter": "python",
   "pygments_lexer": "ipython2",
   "version": "2.7.6"
  }
 },
 "nbformat": 4,
 "nbformat_minor": 0
}
