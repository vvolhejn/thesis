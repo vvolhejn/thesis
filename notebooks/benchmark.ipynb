{
 "cells": [
  {
   "cell_type": "code",
   "execution_count": null,
   "metadata": {
    "pycharm": {
     "name": "#%%\n"
    }
   },
   "outputs": [],
   "source": [
    "%load_ext autoreload\n",
    "%autoreload 2\n",
    "\n",
    "# White background for matplotlib plots\n",
    "# %config InlineBackend.print_figure_kwargs={'facecolor': \"w\"}\n",
    "\n",
    "import numpy as np\n",
    "import tensorflow as tf\n",
    "import torch\n",
    "import tqdm.notebook as tqdm\n",
    "import pandas as pd\n",
    "\n",
    "# import thesis.benchmark as qb\n",
    "\n",
    "import matplotlib.pyplot as plt\n",
    "plt.rcParams['figure.figsize'] = [10, 5]\n",
    "\n",
    "import seaborn as sns\n",
    "\n",
    "import gin\n",
    "gin.enter_interactive_mode()\n",
    "# %matplotlib widget"
   ]
  },
  {
   "cell_type": "code",
   "execution_count": null,
   "metadata": {
    "pycharm": {
     "name": "#%%\n"
    }
   },
   "outputs": [],
   "source": [
    "hidden_size = 10\n",
    "expansion = 4\n",
    "\n",
    "dense_keras = tf.keras.Sequential(\n",
    "            [\n",
    "                tf.keras.layers.Input((hidden_size,)),\n",
    "                tf.keras.layers.Dense(hidden_size * expansion, activation=tf.nn.relu),\n",
    "                # tf.keras.layers.Dense(hidden_size, use_bias=False),\n",
    "            ]\n",
    "        )"
   ]
  },
  {
   "cell_type": "code",
   "execution_count": null,
   "metadata": {
    "pycharm": {
     "name": "#%%\n"
    }
   },
   "outputs": [],
   "source": [
    "import tensorflow as tf\n",
    "from tensorflow.python.keras.engine.base_layer import Layer\n",
    "from tensorflow.keras.layers import Conv2D\n",
    "from tensorflow.python.profiler.model_analyzer import profile\n",
    "from tensorflow.python.profiler.option_builder import ProfileOptionBuilder\n",
    "print('TensorFlow:', tf.__version__)\n",
    "\n",
    "\n",
    "# model = tf.keras.applications.ResNet50()\n",
    "forward_pass = tf.function(\n",
    "    dense_keras.call,\n",
    "    input_signature=[tf.TensorSpec(shape=(1, hidden_size))])\n",
    "\n",
    "graph_info = profile(forward_pass.get_concrete_function().graph,\n",
    "                        options=ProfileOptionBuilder.float_operation())\n",
    "\n",
    "flops = graph_info.total_float_ops"
   ]
  },
  {
   "cell_type": "code",
   "execution_count": null,
   "metadata": {
    "pycharm": {
     "name": "#%%\n"
    }
   },
   "outputs": [],
   "source": [
    "print('Flops: {:,}'.format(flops))"
   ]
  },
  {
   "cell_type": "code",
   "execution_count": null,
   "metadata": {
    "pycharm": {
     "name": "#%%\n"
    }
   },
   "outputs": [],
   "source": [
    "import plotly.express as px"
   ]
  },
  {
   "cell_type": "code",
   "execution_count": null,
   "metadata": {
    "pycharm": {
     "name": "#%%\n"
    }
   },
   "outputs": [],
   "source": [
    "df = pd.read_csv(\"/Volumes/euler/benchmark_data/0606-dense-4/results.csv\")\n",
    "df = df.drop(columns={\"Unnamed: 0\"})\n",
    "\n",
    "g = sns.relplot(\n",
    "    data=df,\n",
    "    hue=\"name\",\n",
    "    x=\"model_i\",\n",
    "    y=\"inference_time\",\n",
    "    kind=\"line\",\n",
    "#     ci=\"sd\",\n",
    ")\n",
    "# g.set(title=\"CNN\", yscale=\"log\")\n",
    "plt.show()\n",
    "\n",
    "# sns.distplot(data=df[df[\"network_size\"] == max(df[\"network_size\"])])"
   ]
  },
  {
   "cell_type": "code",
   "execution_count": null,
   "metadata": {
    "pycharm": {
     "name": "#%%\n"
    }
   },
   "outputs": [],
   "source": [
    "fig = px.line(df, x=\"model_i\", y=\"inference_time\", color='name')\n",
    "fig.show()"
   ]
  },
  {
   "cell_type": "code",
   "execution_count": null,
   "metadata": {
    "pycharm": {
     "name": "#%%\n"
    }
   },
   "outputs": [],
   "source": [
    "df.loc[df[\"network_size\"] == 0]"
   ]
  },
  {
   "cell_type": "code",
   "execution_count": null,
   "metadata": {
    "pycharm": {
     "name": "#%%\n"
    }
   },
   "outputs": [],
   "source": [
    "df2 = df.loc[df[\"network_size\"] == 0].groupby(\"name\").agg({\n",
    "    \"loss\": \"mean\",\n",
    "    \"inference_time\": [\"mean\", \"std\"],\n",
    "})\n",
    "df2.columns = ['_'.join(ind).strip() for ind in df2.columns.values]\n",
    "\n",
    "for name, row in df2.iterrows():\n",
    "    print(dict(row))"
   ]
  },
  {
   "cell_type": "code",
   "execution_count": null,
   "metadata": {
    "pycharm": {
     "name": "#%%\n"
    }
   },
   "outputs": [],
   "source": []
  },
  {
   "cell_type": "code",
   "execution_count": null,
   "metadata": {
    "pycharm": {
     "name": "#%%\n"
    }
   },
   "outputs": [],
   "source": []
  },
  {
   "cell_type": "code",
   "execution_count": null,
   "metadata": {
    "pycharm": {
     "name": "#%%\n"
    }
   },
   "outputs": [],
   "source": [
    "df = pd.read_csv(\"/Volumes/euler/benchmark_data/0523_cnn.csv\")\n",
    "df = df.drop(columns={\"Unnamed: 0\"})\n",
    "\n",
    "g = sns.relplot(\n",
    "    data=df,\n",
    "    hue=\"name\",\n",
    "    x=\"network_size\",\n",
    "    y=\"inference_time\",\n",
    "    kind=\"line\",\n",
    "#     ci=\"sd\",\n",
    ")\n",
    "g.set(title=\"CNN\", yscale=\"log\")\n",
    "plt.show()\n",
    "\n",
    "sns.distplot(data=df[df[\"network_size\"] == max(df[\"network_size\"])])"
   ]
  },
  {
   "cell_type": "code",
   "execution_count": null,
   "metadata": {
    "pycharm": {
     "name": "#%%\n"
    }
   },
   "outputs": [],
   "source": [
    "sns.displot(data=df[df[\"network_size\"] == max(df[\"network_size\"])], x=\"inference_time\", hue=\"name\", kind=\"ecdf\")"
   ]
  },
  {
   "cell_type": "code",
   "execution_count": null,
   "metadata": {
    "pycharm": {
     "name": "#%%\n"
    }
   },
   "outputs": [],
   "source": []
  },
  {
   "cell_type": "code",
   "execution_count": null,
   "metadata": {
    "pycharm": {
     "name": "#%%\n"
    }
   },
   "outputs": [],
   "source": [
    "df = pd.read_csv(\"/Volumes/euler/benchmark_data/0520_dense.csv\")\n",
    "df = df.drop(columns={\"Unnamed: 0\"})\n",
    "\n",
    "g = sns.relplot(\n",
    "    data=df,\n",
    "    hue=\"name\",\n",
    "    x=\"network_size\",\n",
    "    y=\"inference_time\",\n",
    "    kind=\"line\",\n",
    "#     ci=\"sd\",\n",
    ")\n",
    "g.set(title=\"Dense\", yscale=\"log\")"
   ]
  },
  {
   "cell_type": "code",
   "execution_count": null,
   "metadata": {
    "pycharm": {
     "name": "#%%\n"
    }
   },
   "outputs": [],
   "source": [
    "df = pd.read_csv(\"/Volumes/euler/benchmark_data/0520_dense_3_layer.csv\")\n",
    "df = df.drop(columns={\"Unnamed: 0\"})\n",
    "\n",
    "g = sns.relplot(\n",
    "    data=df,\n",
    "    hue=\"name\",\n",
    "    x=\"network_size\",\n",
    "    y=\"inference_time\",\n",
    "    kind=\"line\",\n",
    "#     ci=\"sd\",\n",
    ")\n",
    "g.set(title=\"Dense - 3 layers\", yscale=\"log\")"
   ]
  },
  {
   "cell_type": "code",
   "execution_count": null,
   "metadata": {
    "pycharm": {
     "name": "#%%\n"
    }
   },
   "outputs": [],
   "source": [
    "df = pd.read_csv(\"/Volumes/euler/benchmark_data/0520_cnn_1_layer.csv\")\n",
    "df = df.drop(columns={\"Unnamed: 0\"})\n",
    "\n",
    "g = sns.relplot(\n",
    "    data=df,\n",
    "    hue=\"name\",\n",
    "    x=\"network_size\",\n",
    "    y=\"inference_time\",\n",
    "    kind=\"line\",\n",
    "#     ci=\"sd\",\n",
    ")\n",
    "g.set(title=\"Dense\", yscale=\"log\")"
   ]
  },
  {
   "cell_type": "code",
   "execution_count": null,
   "metadata": {
    "pycharm": {
     "name": "#%%\n"
    }
   },
   "outputs": [],
   "source": [
    "df = pd.read_csv(\"/Volumes/euler/benchmark_data/0520_cnn_3_layer.csv\")\n",
    "df = df.drop(columns={\"Unnamed: 0\"})\n",
    "\n",
    "g = sns.relplot(\n",
    "    data=df,\n",
    "    hue=\"name\",\n",
    "    x=\"network_size\",\n",
    "    y=\"inference_time\",\n",
    "    kind=\"line\",\n",
    "#     ci=\"sd\",\n",
    ")\n",
    "g.set(title=\"CNN 3 layers\", yscale=\"log\")"
   ]
  },
  {
   "cell_type": "code",
   "execution_count": null,
   "metadata": {
    "pycharm": {
     "name": "#%%\n"
    }
   },
   "outputs": [],
   "source": [
    "df = pd.read_csv(\"/Volumes/euler/benchmark_data/0520_dilated_cnn_small.csv\")\n",
    "df = df.drop(columns={\"Unnamed: 0\"})\n",
    "\n",
    "g = sns.relplot(\n",
    "    data=df,\n",
    "    hue=\"name\",\n",
    "    x=\"network_size\",\n",
    "    y=\"inference_time\",\n",
    "    kind=\"line\",\n",
    "#     ci=\"sd\",\n",
    ")\n",
    "g.set(title=\"Dense\", yscale=\"log\")"
   ]
  },
  {
   "cell_type": "code",
   "execution_count": null,
   "metadata": {
    "pycharm": {
     "name": "#%%\n"
    }
   },
   "outputs": [],
   "source": [
    "df"
   ]
  },
  {
   "cell_type": "code",
   "execution_count": null,
   "metadata": {
    "pycharm": {
     "name": "#%%\n"
    }
   },
   "outputs": [],
   "source": [
    "df = pd.read_csv(\"/Volumes/euler/benchmark_data/0520_dilated_cnn_1_layer.csv\")\n",
    "df = df.drop(columns={\"Unnamed: 0\"})\n",
    "\n",
    "g = sns.relplot(\n",
    "    data=df,\n",
    "    hue=\"name\",\n",
    "    x=\"network_size\",\n",
    "    y=\"inference_time\",\n",
    "    kind=\"line\",\n",
    "#     ci=\"sd\",\n",
    ")\n",
    "g.set(title=\"Dilated CNN - 1 layer\", yscale=\"log\")"
   ]
  },
  {
   "cell_type": "code",
   "execution_count": null,
   "metadata": {
    "pycharm": {
     "name": "#%%\n"
    }
   },
   "outputs": [],
   "source": [
    "df = pd.read_csv(\"/Volumes/euler/benchmark_data/0520_dilated_cnn_3_layers.csv\")\n",
    "df = df.drop(columns={\"Unnamed: 0\"})\n",
    "\n",
    "g = sns.relplot(\n",
    "    data=df,\n",
    "    hue=\"name\",\n",
    "    x=\"network_size\",\n",
    "    y=\"inference_time\",\n",
    "    kind=\"line\",\n",
    "#     ci=\"sd\",\n",
    ")\n",
    "g.set(title=\"Dilated CNN - 3 layers\", yscale=\"log\")"
   ]
  },
  {
   "cell_type": "markdown",
   "metadata": {
    "pycharm": {
     "name": "#%% md\n"
    }
   },
   "source": [
    "## ----"
   ]
  },
  {
   "cell_type": "code",
   "execution_count": null,
   "metadata": {
    "pycharm": {
     "name": "#%%\n"
    }
   },
   "outputs": [],
   "source": []
  },
  {
   "cell_type": "code",
   "execution_count": null,
   "metadata": {
    "pycharm": {
     "name": "#%%\n"
    }
   },
   "outputs": [],
   "source": [
    "import tensorflow_model_optimization as tfmot\n",
    "\n",
    "size = 32\n",
    "n_channels = 16\n",
    "\n",
    "# model = tf.keras.Sequential(\n",
    "#     [\n",
    "#         tf.keras.layers.Input((size, size, n_channels)),\n",
    "#         tf.keras.layers.Conv2D(\n",
    "#             filters=n_channels,\n",
    "#             kernel_size=3,\n",
    "#             activation=tf.nn.relu,\n",
    "#             padding=\"same\",\n",
    "#         ),\n",
    "#         tf.keras.layers.MaxPooling2D(size),\n",
    "#     ]\n",
    "# )\n",
    "\n",
    "model = tf.keras.Sequential([\n",
    "    tf.keras.layers.InputLayer(input_shape=(28, 28)),\n",
    "    tf.keras.layers.Reshape(target_shape=(28, 28, 1)),\n",
    "    tf.keras.layers.Conv2D(filters=12, kernel_size=(3, 3), activation='relu'),\n",
    "    tf.keras.layers.MaxPooling2D(pool_size=(2, 2)),\n",
    "    tf.keras.layers.Flatten(),\n",
    "    tf.keras.layers.Dense(10)\n",
    "])\n",
    "\n",
    "model.compile(\n",
    "      loss=tf.keras.losses.MeanSquaredError(),\n",
    "      optimizer='adam',\n",
    "      metrics=['accuracy']\n",
    ")\n",
    "\n",
    "\n",
    "# pruning_params = {'block_size': [1, 16]}\n",
    "model_for_pruning = tfmot.sparsity.keras.prune_low_magnitude(\n",
    "    # tf.keras.models.clone_model(model),\n",
    "    model,\n",
    "    # pruning_schedule=tfmot.sparsity.keras.ConstantSparsity(0.5, 0)\n",
    ")\n",
    "\n",
    "print(\"Sparsity:\", (model_for_pruning.get_weights()[0] == 0).mean())\n",
    "\n",
    "import tempfile\n",
    "\n",
    "log_dir = tempfile.mkdtemp()\n",
    "callbacks = [\n",
    "    tfmot.sparsity.keras.UpdatePruningStep(),\n",
    "    # Log sparsity and other metrics in Tensorboard.\n",
    "    tfmot.sparsity.keras.PruningSummaries(log_dir=log_dir)\n",
    "]\n",
    "\n",
    "model_for_pruning.compile(\n",
    "      loss=tf.keras.losses.MeanSquaredError(),\n",
    "      optimizer='adam',\n",
    "      metrics=['accuracy']\n",
    ")\n",
    "\n",
    "model_for_pruning.fit(\n",
    "    np.random.randn(100, 28, 28).astype(np.float32),\n",
    "    np.random.randn(100, 10).astype(np.float32),\n",
    "    callbacks=callbacks,\n",
    "    epochs=2,\n",
    "    batch_size=5,\n",
    "    # validation_split=0.1,\n",
    ")\n",
    "\n",
    "# model_for_pruning.fit(\n",
    "#     np.random.randn(1, size, size, n_channels).astype(np.float32),\n",
    "#     np.random.randn(1, 1, 1, n_channels).astype(np.float32),\n",
    "#     callbacks=callbacks,\n",
    "#     epochs=2,\n",
    "# )\n",
    "\n",
    "# step_callback = tfmot.sparsity.keras.UpdatePruningStep()\n",
    "# step_callback.set_model(model_for_pruning)\n",
    "# step_callback.on_train_begin()\n",
    "# step_callback.on_train_batch_begin(batch=-1)\n",
    "# step_callback.on_epoch_end(batch=-1)\n",
    "\n",
    "# model_for_pruning.summary()\n",
    "\n",
    "print(\"Sparsity:\", (model_for_pruning.get_weights()[1] == 0).mean())\n",
    "\n",
    "# model_for_export = tfmot.sparsity.keras.strip_pruning(model_for_pruning)\n",
    "# model_for_export.summary()\n",
    "\n",
    "# model_for_pruning.summary()"
   ]
  },
  {
   "cell_type": "code",
   "execution_count": null,
   "metadata": {
    "pycharm": {
     "name": "#%%\n"
    }
   },
   "outputs": [],
   "source": []
  },
  {
   "cell_type": "code",
   "execution_count": null,
   "metadata": {
    "pycharm": {
     "name": "#%%\n"
    }
   },
   "outputs": [],
   "source": [
    "keras_model = tf.keras.Sequential([\n",
    "    tf.keras.layers.InputLayer(input_shape=(28, 28)),\n",
    "    tf.keras.layers.Reshape(target_shape=(28, 28, 1)),\n",
    "    tf.keras.layers.Conv2D(filters=12, kernel_size=(3, 3), activation='relu'),\n",
    "    tf.keras.layers.MaxPooling2D(pool_size=(2, 2)),\n",
    "    tf.keras.layers.Flatten(),\n",
    "    tf.keras.layers.Dense(10)\n",
    "])\n",
    "\n",
    "runtimes = [\n",
    "    qb.TFLite(quantization_mode=\"off\"),\n",
    "    qb.ONNXRuntime(quantization_mode=\"off\"),\n",
    "    qb.TFLite(quantization_mode=\"off\", sparsity=0.5),\n",
    "    qb.TFLite(quantization_mode=\"off\", sparsity=0.9),\n",
    "    qb.TFLite(quantization_mode=\"off\", sparsity=0.99),\n",
    "    qb.TFLite(quantization_mode=\"static\", sparsity=0.99),\n",
    "]\n",
    "\n",
    "df = qb.benchmark(keras_model, None, runtimes)"
   ]
  },
  {
   "cell_type": "code",
   "execution_count": null,
   "metadata": {
    "pycharm": {
     "name": "#%%\n"
    }
   },
   "outputs": [],
   "source": [
    "sns.displot(data=df, x=\"inference_time\", hue=\"name\", kind=\"ecdf\", log_scale=True)"
   ]
  },
  {
   "cell_type": "code",
   "execution_count": null,
   "metadata": {
    "pycharm": {
     "name": "#%%\n"
    }
   },
   "outputs": [],
   "source": [
    "sns.boxplot(data=df, x=\"inference_time\", y=\"name\")"
   ]
  },
  {
   "cell_type": "code",
   "execution_count": null,
   "metadata": {
    "pycharm": {
     "name": "#%%\n"
    }
   },
   "outputs": [],
   "source": []
  },
  {
   "cell_type": "code",
   "execution_count": null,
   "metadata": {
    "pycharm": {
     "name": "#%%\n"
    }
   },
   "outputs": [],
   "source": [
    "import ddsp.training\n",
    "\n",
    "model = ddsp.training.nn.DilatedConvStack(\n",
    "    ch=64,\n",
    "    layers_per_stack=3,\n",
    "    stacks=1,\n",
    "    kernel_size=3,\n",
    "    dilation=2,\n",
    ")\n",
    "model = tf.keras.Sequential(\n",
    "    [\n",
    "        tf.keras.layers.Input((64000, 1, 1)),\n",
    "        model,\n",
    "    ]\n",
    ")\n",
    "\n",
    "model2 = tf.keras.models.clone_model(model)"
   ]
  },
  {
   "cell_type": "code",
   "execution_count": null,
   "metadata": {
    "pycharm": {
     "name": "#%%\n"
    }
   },
   "outputs": [],
   "source": []
  },
  {
   "cell_type": "code",
   "execution_count": null,
   "metadata": {
    "pycharm": {
     "name": "#%%\n"
    }
   },
   "outputs": [],
   "source": []
  },
  {
   "cell_type": "code",
   "execution_count": null,
   "metadata": {
    "pycharm": {
     "name": "#%%\n"
    }
   },
   "outputs": [],
   "source": [
    "%config InlineBackend.print_figure_kwargs={'facecolor': \"w\"}\n",
    "\n",
    "import pandas as pd\n",
    "import matplotlib.pyplot as plt\n",
    "plt.rcParams['figure.figsize'] = [10, 5]\n",
    "\n",
    "import seaborn as sns\n",
    "\n",
    "df = pd.read_csv(\"/Volumes/euler/benchmark_data/0526_dense.csv\")\n",
    "df = df.drop(columns={\"Unnamed: 0\"})\n",
    "\n",
    "g = sns.relplot(\n",
    "    data=df[df[\"name\"].str.contains(\"0.99\")],\n",
    "    hue=\"name\",\n",
    "    x=\"network_size\",\n",
    "    y=\"inference_time\",\n",
    "    kind=\"line\",\n",
    "#     ci=\"sd\",\n",
    ")\n",
    "g.set(title=\"\", yscale=\"log\")"
   ]
  },
  {
   "cell_type": "markdown",
   "metadata": {
    "pycharm": {
     "name": "#%% md\n"
    }
   },
   "source": [
    "## Dense"
   ]
  },
  {
   "cell_type": "code",
   "execution_count": null,
   "metadata": {
    "pycharm": {
     "name": "#%%\n"
    }
   },
   "outputs": [],
   "source": [
    "df = pd.read_csv(\"/Volumes/euler/benchmark_data/0527_dense_2.csv\")\n",
    "df = df.drop(columns={\"Unnamed: 0\"})\n",
    "\n",
    "g = sns.relplot(\n",
    "    data=df,  #df[df[\"name\"].str.contains(\"0.99\")],\n",
    "    hue=\"name\",\n",
    "    x=\"network_size\",\n",
    "    y=\"inference_time\",\n",
    "    kind=\"line\",\n",
    "    #     ci=\"sd\",\n",
    ")\n",
    "g.set(title=\"\", yscale=\"log\")\n",
    "# sns.displot(data=df[df[\"network_size\"] == max(df[\"network_size\"])], x=\"inference_time\", hue=\"name\", kind=\"ecdf\", log_scale=True)\n",
    "#\n",
    "# sns.displot(data=df[df[\"name\"].str.contains(\"TFLite\") & (df[\"network_size\"] == max(df[\"network_size\"]))],\n",
    "#             x=\"inference_time\", hue=\"name\", kind=\"ecdf\", log_scale=True)"
   ]
  },
  {
   "cell_type": "code",
   "execution_count": null,
   "metadata": {
    "pycharm": {
     "name": "#%%\n"
    }
   },
   "outputs": [],
   "source": [
    "sns.barplot(data=df[df[\"network_size\"] == max(df[\"network_size\"]) - 1], y=\"name\", x=\"inference_time\")"
   ]
  },
  {
   "cell_type": "code",
   "execution_count": null,
   "metadata": {
    "pycharm": {
     "name": "#%%\n"
    }
   },
   "outputs": [],
   "source": [
    "df2 = df.loc[df[\"name\"].str.contains(\"TFLite\")].copy()\n",
    "df2[\"quantization\"] = \"off\"\n",
    "df2.loc[df2[\"name\"].str.contains(\"quant_dynamic\"), \"quantization\"] = \"dynamic\"\n",
    "df2.loc[df2[\"name\"].str.contains(\"quant_static\"), \"quantization\"] = \"static\"\n",
    "\n",
    "df2[\"sparsity\"] = 0.0\n",
    "df2.loc[df2[\"name\"].str.contains(\"0.90_sparse\"), \"sparsity\"] = 0.90\n",
    "df2.loc[df2[\"name\"].str.contains(\"0.99_sparse\"), \"sparsity\"] = 0.99\n",
    "# sns.heatmap(df2)\n",
    "# sns.heatmap(df2.pivot(\"sparsity\", \"quantization\", \"inference_time\"))\n",
    "df2 = df2.groupby([\"sparsity\", \"quantization\"]).agg({\"inference_time\": \"mean\"}).reset_index().pivot(\"sparsity\", \"quantization\", \"inference_time\")\n",
    "sns.heatmap(df2, annot=True)"
   ]
  },
  {
   "cell_type": "markdown",
   "metadata": {
    "pycharm": {
     "name": "#%% md\n"
    }
   },
   "source": [
    "## CNN"
   ]
  },
  {
   "cell_type": "code",
   "execution_count": null,
   "metadata": {
    "pycharm": {
     "name": "#%%\n"
    }
   },
   "outputs": [],
   "source": [
    "df = pd.read_csv(\"/Volumes/euler/benchmark_data/0527_cnn_2.csv\")\n",
    "df = df.drop(columns={\"Unnamed: 0\"})\n",
    "\n",
    "g = sns.relplot(\n",
    "    data=df,  #df[df[\"name\"].str.contains(\"0.99\")],\n",
    "    hue=\"name\",\n",
    "    x=\"network_size\",\n",
    "    y=\"inference_time\",\n",
    "    kind=\"line\",\n",
    "    #     ci=\"sd\",\n",
    ")\n",
    "g.set(title=\"\", yscale=\"log\")\n",
    "# sns.displot(data=df[df[\"network_size\"] == max(df[\"network_size\"])], x=\"inference_time\", hue=\"name\", kind=\"ecdf\", log_scale=True)\n",
    "# sns.displot(data=df[df[\"name\"].str.contains(\"TFLite\") & (df[\"network_size\"] == max(df[\"network_size\"]))],\n",
    "#             x=\"inference_time\", hue=\"name\", kind=\"ecdf\", log_scale=True)\n",
    "plt.show()\n",
    "sns.barplot(data=df[df[\"network_size\"] == max(df[\"network_size\"])], y=\"name\", x=\"inference_time\")"
   ]
  },
  {
   "cell_type": "markdown",
   "metadata": {
    "pycharm": {
     "name": "#%% md\n"
    }
   },
   "source": [
    "## Dilated conv"
   ]
  },
  {
   "cell_type": "code",
   "execution_count": null,
   "metadata": {
    "pycharm": {
     "name": "#%%\n"
    }
   },
   "outputs": [],
   "source": [
    "df = pd.read_csv(\"/Volumes/euler/benchmark_data/0527_dilated_conv_2.csv\")\n",
    "df = df.drop(columns={\"Unnamed: 0\"})\n",
    "\n",
    "g = sns.relplot(\n",
    "    data=df,  #df[df[\"name\"].str.contains(\"0.99\")],\n",
    "    hue=\"name\",\n",
    "    x=\"network_size\",\n",
    "    y=\"inference_time\",\n",
    "    kind=\"line\",\n",
    "    #     ci=\"sd\",\n",
    ")\n",
    "# g.set(title=\"\", yscale=\"log\")\n",
    "# sns.displot(data=df[df[\"network_size\"] == max(df[\"network_size\"])], x=\"inference_time\", hue=\"name\", kind=\"ecdf\", log_scale=True)\n",
    "# sns.displot(data=df[df[\"name\"].str.contains(\"TFLite\") & (df[\"network_size\"] == max(df[\"network_size\"]))],\n",
    "#             x=\"inference_time\", hue=\"name\", kind=\"ecdf\", log_scale=True)\n",
    "# plt.show()\n",
    "sns.barplot(data=df[df[\"network_size\"] == max(df[\"network_size\"])], y=\"name\", x=\"inference_time\")"
   ]
  },
  {
   "cell_type": "code",
   "execution_count": null,
   "metadata": {
    "pycharm": {
     "name": "#%%\n"
    }
   },
   "outputs": [],
   "source": []
  }
 ],
 "metadata": {
  "kernelspec": {
   "display_name": "Python 3 (ipykernel)",
   "language": "python",
   "name": "python3"
  },
  "language_info": {
   "codemirror_mode": {
    "name": "ipython",
    "version": 3
   },
   "file_extension": ".py",
   "mimetype": "text/x-python",
   "name": "python",
   "nbconvert_exporter": "python",
   "pygments_lexer": "ipython3",
   "version": "3.9.10"
  }
 },
 "nbformat": 4,
 "nbformat_minor": 1
}
