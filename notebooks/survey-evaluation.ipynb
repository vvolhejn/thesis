{
 "cells": [
  {
   "cell_type": "markdown",
   "id": "27301688",
   "metadata": {},
   "source": [
    "Evaluating the results from the survey and plotting them."
   ]
  },
  {
   "cell_type": "code",
   "execution_count": null,
   "id": "5ee81fae",
   "metadata": {},
   "outputs": [],
   "source": [
    "%load_ext autoreload\n",
    "%autoreload 2\n",
    "\n",
    "import os\n",
    "import sys\n",
    "import random\n",
    "\n",
    "import tqdm.notebook as tqdm\n",
    "import numpy as np\n",
    "import pandas as pd\n",
    "import wandb\n",
    "api = wandb.Api()\n",
    "\n",
    "import matplotlib.pyplot as plt\n",
    "import seaborn as sns\n",
    "sns.set()\n",
    "from statannotations.Annotator import Annotator"
   ]
  },
  {
   "cell_type": "code",
   "execution_count": null,
   "id": "b6b2aa06",
   "metadata": {},
   "outputs": [],
   "source": [
    "api = wandb.Api()\n",
    "artifact = api.artifact(\n",
    "    f\"neural-audio-synthesis-thesis/neural-audio-synthesis-thesis/survey-backup:latest\"\n",
    ")"
   ]
  },
  {
   "cell_type": "code",
   "execution_count": null,
   "id": "47b0cf5d",
   "metadata": {},
   "outputs": [],
   "source": [
    "BASE_DIR = \"/Users/vaclav/prog/thesis/data/wandb-samples\"\n",
    "artifact.download(BASE_DIR)"
   ]
  },
  {
   "cell_type": "code",
   "execution_count": null,
   "id": "064dee98",
   "metadata": {},
   "outputs": [],
   "source": [
    "path = os.path.join(BASE_DIR, \"mushra.csv\")\n",
    "df = pd.read_csv(path)\n",
    "\n",
    "# two answers I used for testing\n",
    "df = df.loc[df[\"session_uuid\"] != \"ef68e1d2-8b5f-4f14-abe4-70760956ade5\"]\n",
    "df = df.loc[df[\"session_uuid\"] != \"2299b6fa-6927-4564-ac71-e7887722fd16\"]\n",
    "\n",
    "# do not leak personal data\n",
    "del df[\"email\"]\n",
    "del df[\"ethusername\"]\n",
    "del df[\"firstname\"]\n",
    "del df[\"lastname\"]\n",
    "\n",
    "from numpy.random import default_rng\n",
    "rng = default_rng(seed=123)\n",
    "\n",
    "groups = [df for _, df in df.groupby('session_uuid')]\n",
    "random.shuffle(groups, random=rng.random)\n",
    "\n",
    "df = pd.concat(groups).reset_index(drop=True)\n",
    "\n",
    "# df[\"session_uuid\"].unique()"
   ]
  },
  {
   "cell_type": "code",
   "execution_count": null,
   "id": "88987cec",
   "metadata": {},
   "outputs": [],
   "source": [
    "print(\"#respondents:\", len(df[\"session_uuid\"].unique()))"
   ]
  },
  {
   "cell_type": "code",
   "execution_count": null,
   "id": "1816675f",
   "metadata": {},
   "outputs": [],
   "source": [
    "df[\"rating_stimulus\"] = df[\"rating_stimulus\"].replace(\n",
    "    {\n",
    "        \"0725-ddspae-2\": \"DDSP-full\",\n",
    "        \"0725-ddspae-cnn-1-rt\": \"DDSP-CNN\",\n",
    "        \"0809-ddspae-cnn-5-rt\": \"DDSP-CNN-Tiny\",\n",
    "        \"0725-ddspae-cnn-1-rtq\": \"DDSP-CNN-Q\",\n",
    "        \"0809-ddspae-cnn-5-rtq\": \"DDSP-CNN-Tiny-Q\",\n",
    "        \"0805-ddspae\": \"DDSP-full\",\n",
    "        \"0804-ddspae-cnn-3-rt\": \"DDSP-CNN\",\n",
    "        \"0809-ddspae-cnn-4-rt\": \"DDSP-CNN-Tiny\",\n",
    "        \"0804-ddspae-cnn-3-rtq\": \"DDSP-CNN-Q\",\n",
    "        \"0809-ddspae-cnn-4-rtq\": \"DDSP-CNN-Tiny-Q\",\n",
    "        \"reference\": \"Reference\",\n",
    "        \"anchor35\": \"Anchor\",\n",
    "    }\n",
    ")"
   ]
  },
  {
   "cell_type": "code",
   "execution_count": null,
   "id": "e40f2bcc",
   "metadata": {},
   "outputs": [],
   "source": [
    "df[\"rating_stimulus\"].unique()"
   ]
  },
  {
   "cell_type": "code",
   "execution_count": null,
   "id": "95915d4a",
   "metadata": {},
   "outputs": [],
   "source": [
    "# An older version of the survey contains more questions, filter these out\n",
    "\n",
    "responses_per_sample = df.loc[df[\"rating_stimulus\"] == \"Reference\"].groupby(\"trial_id\").count()[\"session_test_id\"]\n",
    "valid_samples = responses_per_sample[responses_per_sample > 6].index\n",
    "\n",
    "df = df.loc[df[\"trial_id\"].isin(responses_per_sample[responses_per_sample > 6].index)]\n",
    "\n",
    "# Remove the participant training examples\n",
    "df = df.loc[~df[\"trial_id\"].isin([\"trial1\", \"trial2\"])]"
   ]
  },
  {
   "cell_type": "code",
   "execution_count": null,
   "id": "bfa500ba",
   "metadata": {},
   "outputs": [],
   "source": [
    "df2 = df.loc[\n",
    "    (df[\"rating_stimulus\"] == \"Reference\")\n",
    "    & (~df[\"trial_id\"].str.startswith(\"violin_tt\"))\n",
    "]\n",
    "df3 = df.loc[\n",
    "    (df[\"rating_stimulus\"] == \"Anchor\")\n",
    "    & (~df[\"trial_id\"].str.startswith(\"violin_tt\"))\n",
    "]"
   ]
  },
  {
   "cell_type": "code",
   "execution_count": null,
   "id": "274f8ed4",
   "metadata": {},
   "outputs": [],
   "source": [
    "df2 = df2.copy()\n",
    "df2[\"bad\"] = df2[\"rating_score\"] < 85  # 90 for a stricter version\n",
    "\n",
    "df3 = df3.copy()\n",
    "df3[\"bad\"] = df3[\"rating_score\"] > 90"
   ]
  },
  {
   "cell_type": "code",
   "execution_count": null,
   "id": "c9b5bde1",
   "metadata": {},
   "outputs": [],
   "source": [
    "df2.groupby(\"session_uuid\").agg({\"bad\": \"mean\"}).sort_values(\"bad\", ascending=False)"
   ]
  },
  {
   "cell_type": "code",
   "execution_count": null,
   "id": "6c390453",
   "metadata": {},
   "outputs": [],
   "source": [
    "# A lot of people judge the anchor highly (maybe \"naturalness\" is not\n",
    "# affected by a low-pass filter), let's not filter these out\n",
    "df3.groupby(\"session_uuid\").agg({\"bad\": \"mean\"})"
   ]
  },
  {
   "cell_type": "code",
   "execution_count": null,
   "id": "80729e61",
   "metadata": {},
   "outputs": [],
   "source": [
    "bad_part_per_participant = df2.groupby(\"session_uuid\").agg({\"bad\": \"mean\"})\n",
    "# Use 20% instead of 15% as in the recommendation because 1/6 ~= 0.16, barely above the limit\n",
    "screened_participants = bad_part_per_participant.loc[bad_part_per_participant[\"bad\"] >= 0.20].index\n",
    "print(f\"{len(screened_participants)} participants post-screened\")\n",
    "\n",
    "df = df.loc[~df[\"session_uuid\"].isin(screened_participants)]"
   ]
  },
  {
   "cell_type": "code",
   "execution_count": null,
   "id": "c483feb6",
   "metadata": {},
   "outputs": [],
   "source": [
    "all_trials = pd.Series(df[\"trial_id\"].unique())\n",
    "violin_trials = all_trials.loc[all_trials.str.startswith(\"violin_sample\")]\n",
    "trumpet_trials = all_trials.loc[all_trials.str.startswith(\"trumpet_sample\")]\n",
    "violin_tt_trials = all_trials.loc[all_trials.str.startswith(\"violin_tt_sample\")]"
   ]
  },
  {
   "cell_type": "code",
   "execution_count": null,
   "id": "265431e2",
   "metadata": {},
   "outputs": [],
   "source": [
    "# Distribution of rating times, in seconds\n",
    "\n",
    "rating_times = (\n",
    "    df.loc[(df[\"rating_stimulus\"] == \"Reference\")]\n",
    ").copy()\n",
    "rating_times[\"rating_time\"] /= 1000\n",
    "\n",
    "sns.boxplot(data=rating_times, y=\"trial_id\", x=\"rating_time\", showfliers=False)"
   ]
  },
  {
   "cell_type": "code",
   "execution_count": null,
   "id": "b9f90c33",
   "metadata": {},
   "outputs": [],
   "source": [
    "# Rating time (only for included samples) per participant, in minutes.\n",
    "df.loc[(df[\"rating_stimulus\"] == \"Reference\")].groupby(\"session_uuid\").agg({\"rating_time\": \"sum\"}) / 1000 / 60"
   ]
  },
  {
   "cell_type": "markdown",
   "id": "4b3c65ee",
   "metadata": {},
   "source": [
    "## Statistical evaluation"
   ]
  },
  {
   "cell_type": "code",
   "execution_count": null,
   "id": "75c01b44",
   "metadata": {},
   "outputs": [],
   "source": [
    "from scipy.stats import wilcoxon\n",
    "\n",
    "\n",
    "def make_agg_fn(condition_1, condition_2):\n",
    "    \"\"\" Extract paired data for Wilcoxon signed rank test. \"\"\"\n",
    "    def agg_fn(df_cur):\n",
    "        df_cur = df_cur.set_index(\"rating_stimulus\")\n",
    "        return pd.Series(\n",
    "            [\n",
    "                df_cur.loc[condition_1, \"rating_score\"],\n",
    "                df_cur.loc[condition_2, \"rating_score\"],\n",
    "            ]\n",
    "        )\n",
    "\n",
    "    return agg_fn\n",
    "\n",
    "def get_p_value(condition_1, condition_2, trials):\n",
    "    paired_ratings = df.loc[df[\"trial_id\"].isin(trials)].groupby([\"session_uuid\", \"trial_id\"]).apply(\n",
    "        make_agg_fn(condition_1, condition_2),\n",
    "    )\n",
    "    res = wilcoxon(\n",
    "        paired_ratings.iloc[:,0],\n",
    "        paired_ratings.iloc[:,1],\n",
    "        correction=True,\n",
    "#         alternative=\"less\",\n",
    "    )\n",
    "    return res.pvalue"
   ]
  },
  {
   "cell_type": "code",
   "execution_count": null,
   "id": "da28d852",
   "metadata": {},
   "outputs": [],
   "source": [
    "def get_p_values(df, trials, full_matrix=True):\n",
    "    \"\"\" Apply Wilcoxon to all pairs of conditions in a group of trials. \"\"\"\n",
    "\n",
    "    conditions = df.loc[df[\"trial_id\"].isin(trials), \"rating_stimulus\"].unique()\n",
    "    rows = []\n",
    "    \n",
    "    for condition1 in conditions:\n",
    "        for condition2 in conditions:\n",
    "            p = None\n",
    "            if condition1 != condition2:\n",
    "                p = get_p_value(condition1, condition2, trials)\n",
    "\n",
    "            # if full_matrix is false, filter out duplicates and self-comparisons\n",
    "            if full_matrix or condition1 < condition2:\n",
    "                rows.append((condition1, condition2, p))\n",
    "\n",
    "    p_values = pd.DataFrame(rows, columns=[\"condition_1\", \"condition_2\", \"p_value\"])\n",
    "    return p_values"
   ]
  },
  {
   "cell_type": "markdown",
   "id": "cd5777f9",
   "metadata": {},
   "source": [
    "Print the pairs with a significant p-value."
   ]
  },
  {
   "cell_type": "code",
   "execution_count": null,
   "id": "7323c197",
   "metadata": {},
   "outputs": [],
   "source": [
    "p_threshold = 0.05"
   ]
  },
  {
   "cell_type": "code",
   "execution_count": null,
   "id": "afc8f38d",
   "metadata": {},
   "outputs": [],
   "source": [
    "p_values = get_p_values(df, violin_trials, full_matrix=False)\n",
    "\n",
    "# Bonferroni correction\n",
    "p_values[\"p_value\"] *= len(p_values.loc[~p_values[\"p_value\"].isna()])\n",
    "\n",
    "p_values.loc[p_values[\"p_value\"] < p_threshold]"
   ]
  },
  {
   "cell_type": "code",
   "execution_count": null,
   "id": "e770a422",
   "metadata": {},
   "outputs": [],
   "source": [
    "p_values = get_p_values(df, trumpet_trials, full_matrix=False)\n",
    "\n",
    "# Bonferroni correction\n",
    "p_values[\"p_value\"] *= len(p_values.loc[~p_values[\"p_value\"].isna()])\n",
    "\n",
    "# p_values.loc[p_values[\"p_value\"] < p_threshold * 10]\n",
    "p_values"
   ]
  },
  {
   "cell_type": "code",
   "execution_count": null,
   "id": "749e1b85",
   "metadata": {},
   "outputs": [],
   "source": [
    "p_values = get_p_values(df, violin_tt_trials, full_matrix=False)\n",
    "\n",
    "# Bonferroni correction\n",
    "corrected_p_threshold = 0.05 / len(p_values.loc[~p_values[\"p_value\"].isna()])\n",
    "\n",
    "p_values.loc[p_values[\"p_value\"] < corrected_p_threshold]"
   ]
  },
  {
   "cell_type": "markdown",
   "id": "811c98df",
   "metadata": {},
   "source": [
    "## Boxplots"
   ]
  },
  {
   "cell_type": "code",
   "execution_count": null,
   "id": "5ef2f382",
   "metadata": {},
   "outputs": [],
   "source": [
    "plot_dir = \"/Users/vaclav/prog/thesis/figures/\"\n",
    "\n",
    "\n",
    "def make_boxplot(\n",
    "    df, trials, is_timbre_transfer=False, invert_annotations=False, pdf_name=None\n",
    "):\n",
    "    order = [\n",
    "        \"DDSP-full\",\n",
    "        \"DDSP-CNN\",\n",
    "        \"DDSP-CNN-Q\",\n",
    "        \"DDSP-CNN-Tiny\",\n",
    "        \"DDSP-CNN-Tiny-Q\",\n",
    "    ]\n",
    "\n",
    "    if not is_timbre_transfer:\n",
    "        order += [\"Reference\", \"Anchor\"]\n",
    "\n",
    "    plt.figure(figsize=(6, 3))\n",
    "\n",
    "    ax = sns.boxplot(\n",
    "        data=df.loc[df[\"trial_id\"].isin(trials)],\n",
    "        y=\"rating_stimulus\",\n",
    "        x=\"rating_score\",\n",
    "        order=order,\n",
    "    )\n",
    "\n",
    "    #     plt.xticks(rotation=30)\n",
    "\n",
    "    p_values = get_p_values(df, trials, full_matrix=False)\n",
    "    # For timbre transfer, this removes the comparisons with (dummy) Reference\n",
    "    p_values = p_values.loc[\n",
    "        p_values[\"condition_1\"].isin(order) & p_values[\"condition_2\"].isin(order)\n",
    "    ]\n",
    "\n",
    "    # Bonferroni correction\n",
    "    p_values[\"p_value\"] *= len(p_values.loc[~p_values[\"p_value\"].isna()])\n",
    "    p_threshold = 0.05\n",
    "\n",
    "    pairs = []\n",
    "    p_values_list = []\n",
    "    for _, row in p_values.iterrows():\n",
    "        if row[\"p_value\"] != np.nan:\n",
    "            # If invert_annotations, show pairs *above* the threshold, i.e. insignificant ones\n",
    "            if (row[\"p_value\"] < p_threshold) != invert_annotations:\n",
    "                pairs.append((row[\"condition_1\"], row[\"condition_2\"]))\n",
    "                if invert_annotations:\n",
    "                    p_values_list.append(0.1)\n",
    "                else:\n",
    "                    p_values_list.append(row[\"p_value\"])\n",
    "\n",
    "    annotator = Annotator(\n",
    "        ax,\n",
    "        pairs,\n",
    "        data=df,\n",
    "        x=\"rating_score\",\n",
    "        y=\"rating_stimulus\",\n",
    "        order=order,\n",
    "        orient=\"h\",\n",
    "    )\n",
    "\n",
    "    color = sns.color_palette()[3] if invert_annotations else (0.2, 0.2, 0.2)\n",
    "\n",
    "    annotator.configure(\n",
    "        test=None,\n",
    "        test_short_name=\"Wilcoxon\",\n",
    "        verbose=1,\n",
    "        color=color,\n",
    "        show_test_name=True,\n",
    "        #         pvalue_format={\n",
    "        #             \"pvalue_format_string\": [\n",
    "        #                 [1e-4, \"****\"],\n",
    "        #                 [1e-3, \"***\"],\n",
    "        #                 [1e-2, \"**\"],\n",
    "        #                 [0.05, \"*\"],\n",
    "        #                 [1, \"\"],  # wanted to remove ns but doesn't work\n",
    "        #             ]\n",
    "        #         },\n",
    "    ).set_pvalues(pvalues=p_values_list).annotate()\n",
    "\n",
    "    plt.ylabel(\"Condition\")\n",
    "    plt.xlabel(\"Score\")\n",
    "    plt.xticks(np.arange(0, 101, 20))\n",
    "\n",
    "    test_label_x = (100 + plt.xlim()[1]) / 2\n",
    "    test_label_y = plt.ylim()[0] + 0.25\n",
    "    plt.text(\n",
    "        test_label_x,\n",
    "        test_label_y,\n",
    "        (\n",
    "            \"Wilcoxon\\n$p < 0.05$ pairs\"\n",
    "            if not invert_annotations\n",
    "            else \"Wilcoxon\\n$p \\geq 0.05$ pairs\"\n",
    "        ),\n",
    "        ha=\"center\",\n",
    "        va=\"top\",\n",
    "        fontstyle=\"italic\",\n",
    "    )\n",
    "\n",
    "    if pdf_name is not None:\n",
    "        pdf_metadata = {\n",
    "            \"artifact-version\": artifact.version,\n",
    "            \"artifact-created-at\": artifact.created_at,\n",
    "            \"respondents-after-screening\": len(df[\"session_uuid\"].unique()),\n",
    "        }\n",
    "\n",
    "        plt.savefig(\n",
    "            os.path.join(plot_dir, pdf_name),\n",
    "            bbox_inches=\"tight\",\n",
    "            # Metadata doc: https://matplotlib.org/stable/api/backend_pdf_api.html#matplotlib.backends.backend_pdf.PdfFile\n",
    "            metadata={\"Title\": \" \".join([f\"{k}={v}\" for k, v in pdf_metadata.items()])},\n",
    "            backend=\"pgf\",\n",
    "        )\n",
    "\n",
    "\n",
    "#     annotator.configure(test='Wilcoxon', text_format='star', loc='outside')\n",
    "#     annotator.apply_and_annotate()"
   ]
  },
  {
   "cell_type": "code",
   "execution_count": null,
   "id": "28d3c76c",
   "metadata": {},
   "outputs": [],
   "source": [
    "# make_boxplot(df, violin_trials, invert_annotations=True)\n",
    "make_boxplot(df, violin_trials, invert_annotations=True, pdf_name=\"survey_violin.pdf\")"
   ]
  },
  {
   "cell_type": "code",
   "execution_count": null,
   "id": "eed6acc6",
   "metadata": {},
   "outputs": [],
   "source": [
    "make_boxplot(df, trumpet_trials, pdf_name=\"survey_trumpet.pdf\")"
   ]
  },
  {
   "cell_type": "code",
   "execution_count": null,
   "id": "3fe9f87a",
   "metadata": {},
   "outputs": [],
   "source": [
    "make_boxplot(df, violin_tt_trials, is_timbre_transfer=True, pdf_name=\"survey_violin_tt.pdf\")"
   ]
  },
  {
   "cell_type": "code",
   "execution_count": null,
   "id": "961af6aa",
   "metadata": {},
   "outputs": [],
   "source": []
  },
  {
   "cell_type": "markdown",
   "id": "2d790467",
   "metadata": {},
   "source": [
    "## Demographics"
   ]
  },
  {
   "cell_type": "code",
   "execution_count": null,
   "id": "223db784",
   "metadata": {},
   "outputs": [],
   "source": [
    "audio_familiarity = df.groupby(\"session_uuid\").agg(\n",
    "    {\"musical-instruments\": \"first\", \"other-audio\": \"first\"}\n",
    ")\n",
    "sns.displot(\n",
    "    data=audio_familiarity.sort_values(\"musical-instruments\"), x=\"musical-instruments\"\n",
    ")\n",
    "\n",
    "sns.displot(data=audio_familiarity.sort_values(\"other-audio\"), x=\"other-audio\")"
   ]
  },
  {
   "cell_type": "code",
   "execution_count": null,
   "id": "096f4a87",
   "metadata": {},
   "outputs": [],
   "source": []
  },
  {
   "cell_type": "code",
   "execution_count": null,
   "id": "3674ed65",
   "metadata": {},
   "outputs": [],
   "source": []
  }
 ],
 "metadata": {
  "kernelspec": {
   "display_name": "Python 3 (ipykernel)",
   "language": "python",
   "name": "python3"
  },
  "language_info": {
   "codemirror_mode": {
    "name": "ipython",
    "version": 3
   },
   "file_extension": ".py",
   "mimetype": "text/x-python",
   "name": "python",
   "nbconvert_exporter": "python",
   "pygments_lexer": "ipython3"
  }
 },
 "nbformat": 4,
 "nbformat_minor": 5
}
