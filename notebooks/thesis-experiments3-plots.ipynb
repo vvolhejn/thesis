{
 "cells": [
  {
   "cell_type": "code",
   "execution_count": null,
   "id": "b64a768c",
   "metadata": {
    "pycharm": {
     "name": "#%%\n"
    }
   },
   "outputs": [],
   "source": [
    "%load_ext autoreload\n",
    "%autoreload 2\n",
    "\n",
    "import os\n",
    "import numpy as np\n",
    "import pandas as pd\n",
    "import matplotlib.pyplot as plt\n",
    "import matplotlib\n",
    "import seaborn as sns\n",
    "import glob\n",
    "import wandb\n",
    "\n",
    "sns.set()\n",
    "\n",
    "# matplotlib.use(\"pgf\")\n",
    "matplotlib.rcParams.update(\n",
    "    {\n",
    "        \"pgf.texsystem\": \"pdflatex\",\n",
    "        \"font.family\": \"serif\",\n",
    "        \"font.serif\": \"Palatino\",\n",
    "        \"text.usetex\": True,\n",
    "        \"pgf.rcfonts\": False,\n",
    "    }\n",
    ")\n",
    "\n",
    "plot_dir = \"/Users/vaclav/prog/thesis/figures/\""
   ]
  },
  {
   "cell_type": "code",
   "execution_count": null,
   "id": "160e3c9c",
   "metadata": {
    "pycharm": {
     "name": "#%%\n"
    }
   },
   "outputs": [],
   "source": [
    "models = [\n",
    "    # default params\n",
    "    # {\"dataset\": \"Violin\", \"name\": \"0725-ddspae-cnn-1\", \"display_name\": \"Ours-default\"},\n",
    "    # {\"dataset\": \"Trumpet\", \"name\": \"0804-ddspae-cnn-3\", \"display_name\": \"Ours-default\"},\n",
    "    # ch=16\n",
    "    # {\"dataset\": \"Violin\", \"name\": \"0809-ddspae-cnn-5\", \"display_name\": \"Ours-tiny\"},\n",
    "    # {\"dataset\": \"Trumpet\", \"name\": \"0809-ddspae-cnn-4\", \"display_name\": \"Ours-tiny\"},\n",
    "    #     # inverted bottleneck, ch=32\n",
    "    # {\"dataset\": \"Violin\", \"name\": \"0726-ddspae-cnn\", \"display_name\": \"Ours-IB\"},\n",
    "    # {\"dataset\": \"Trumpet\", \"name\": \"0809-ddspae-cnn\", \"display_name\": \"Ours-IB\"},\n",
    "]\n",
    "\n",
    "models2 = []\n",
    "for m in models:\n",
    "    m = m.copy()\n",
    "    m[\"quantization\"] = False\n",
    "    models2.append(m)\n",
    "    m = m.copy()\n",
    "    m[\"quantization\"] = True\n",
    "    models2.append(m)\n",
    "\n",
    "models = models2\n",
    "\n",
    "eval_dir = \"/Users/vaclav/prog/thesis/data/eval_data/\"\n",
    "\n",
    "api = wandb.Api()\n",
    "\n",
    "for model in models:\n",
    "    model_name = model[\"name\"]\n",
    "\n",
    "    suffix = \"rtq\" if model[\"quantization\"] else \"rt\"\n",
    "    model_eval_name = f\"{model_name}-{suffix}\"\n",
    "\n",
    "    artifact = api.artifact(\n",
    "        # TODO: revert from v0 to latest!!!!!!!!!!!!!!!!!!!\n",
    "        f\"neural-audio-synthesis-thesis/nas-evaluation/eval-{model_eval_name}:v0\"\n",
    "    )\n",
    "    csv_dir = artifact.checkout()\n",
    "\n",
    "    run = artifact.logged_by()\n",
    "\n",
    "    model[\"csv_path\"] = os.path.join(csv_dir, f\"eval-{model_eval_name}.csv\")\n",
    "\n",
    "    model[\"loss\"] = run.summary[\"losses/total_loss\"]\n",
    "    \n",
    "    df = pd.read_csv(model[\"csv_path\"], index_col=0)\n",
    "    model[\"decoder_inference_time\"] = df[\"Autoencoder.decoder\"].mean()\n",
    "\n",
    "    print(artifact.created_at, model_eval_name)"
   ]
  },
  {
   "cell_type": "code",
   "execution_count": null,
   "id": "83f5fb3b",
   "metadata": {
    "pycharm": {
     "name": "#%%\n"
    }
   },
   "outputs": [],
   "source": [
    "df = pd.DataFrame(\n",
    "    [\n",
    "        [\n",
    "            m[\"display_name\"],\n",
    "            m[\"quantization\"],\n",
    "            m[\"dataset\"],\n",
    "            m[\"loss\"],\n",
    "            m[\"decoder_inference_time\"] * 1000,\n",
    "        ]\n",
    "        for m in models\n",
    "    ],\n",
    "    columns=[\"Model\", \"Quantization\", \"Dataset\", \"Loss\", \"Decoder inference time (ms)\"],\n",
    ")\n",
    "df = df.pivot(index=[\"Model\", \"Quantization\"], columns=\"Dataset\")\n",
    "# df.columns = df.columns.get_level_values(1)\n",
    "# df.columns.name = None\n",
    "# df = df.reset_index()"
   ]
  },
  {
   "cell_type": "code",
   "execution_count": null,
   "id": "56f63ac0",
   "metadata": {
    "pycharm": {
     "name": "#%%\n"
    }
   },
   "outputs": [],
   "source": [
    "df[\"Loss\"]"
   ]
  },
  {
   "cell_type": "code",
   "execution_count": null,
   "id": "dfe8d66f",
   "metadata": {
    "pycharm": {
     "name": "#%%\n"
    }
   },
   "outputs": [],
   "source": [
    "df[\"Decoder inference time (ms)\"]"
   ]
  },
  {
   "cell_type": "code",
   "execution_count": null,
   "id": "0df09ad8",
   "metadata": {
    "pycharm": {
     "name": "#%%\n"
    }
   },
   "outputs": [],
   "source": [
    "run.summary[\"prediction_time_secs\"]"
   ]
  },
  {
   "cell_type": "code",
   "execution_count": null,
   "id": "63caf33f",
   "metadata": {
    "pycharm": {
     "name": "#%%\n"
    }
   },
   "outputs": [],
   "source": [
    "for a in run.logged_artifacts():\n",
    "    if \"time_distribution_table\" in a.name:\n",
    "        path = a.checkout()\n",
    "        break"
   ]
  },
  {
   "cell_type": "code",
   "execution_count": null,
   "id": "fabbb6e8",
   "metadata": {
    "pycharm": {
     "name": "#%%\n"
    }
   },
   "outputs": [],
   "source": [
    "csv_dir"
   ]
  },
  {
   "cell_type": "code",
   "execution_count": null,
   "id": "b79be8f0",
   "metadata": {
    "pycharm": {
     "name": "#%%\n"
    }
   },
   "outputs": [],
   "source": []
  }
 ],
 "metadata": {
  "kernelspec": {
   "display_name": "Python 3 (ipykernel)",
   "language": "python",
   "name": "python3"
  },
  "language_info": {
   "codemirror_mode": {
    "name": "ipython",
    "version": 3
   },
   "file_extension": ".py",
   "mimetype": "text/x-python",
   "name": "python",
   "nbconvert_exporter": "python",
   "pygments_lexer": "ipython3",
   "version": "3.9.13"
  }
 },
 "nbformat": 4,
 "nbformat_minor": 5
}
