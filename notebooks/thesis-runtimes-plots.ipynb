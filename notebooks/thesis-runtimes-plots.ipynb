{
 "cells": [
  {
   "cell_type": "code",
   "execution_count": null,
   "metadata": {
    "pycharm": {
     "name": "#%%\n"
    }
   },
   "outputs": [],
   "source": [
    "%load_ext autoreload\n",
    "%autoreload 2\n",
    "\n",
    "from typing import Dict\n",
    "import os\n",
    "import numpy as np\n",
    "import pandas as pd\n",
    "import matplotlib.pyplot as plt\n",
    "import matplotlib\n",
    "import seaborn as sns\n",
    "\n",
    "matplotlib.use(\"pgf\")\n",
    "matplotlib.rcParams.update({\n",
    "    \"pgf.texsystem\": \"pdflatex\",\n",
    "    'font.family': 'serif',\n",
    "    'font.serif': 'Palatino',\n",
    "    'text.usetex': True,\n",
    "    'pgf.rcfonts': False,\n",
    "})"
   ]
  },
  {
   "cell_type": "code",
   "execution_count": null,
   "metadata": {
    "pycharm": {
     "name": "#%%\n"
    }
   },
   "outputs": [],
   "source": [
    "base_dir = \"/Users/vaclav/prog/thesis/data/benchmark_data/\"\n",
    "\n",
    "\n",
    "def read_results(subdir):\n",
    "    df = pd.read_csv(os.path.join(base_dir, subdir, \"results.csv\"), index_col=0)\n",
    "\n",
    "    df[\"runtime\"] = df[\"name\"].str.split(\"_\", n=1, expand=True)[0]\n",
    "\n",
    "    sparse_rows_mask = df[\"name\"].str.contains(\"sparse\")\n",
    "    assert df.loc[sparse_rows_mask, \"name\"].str.contains(\"0.90_sparse\").all(), \"Unimplemented sparsity level\"\n",
    "    assert (df.loc[\n",
    "                sparse_rows_mask, \"runtime\"] == \"DeepSparse\").all(), \"All sparse models are expected to be DeepSparse\"\n",
    "    df[\"sparsity\"] = 0.0\n",
    "    df.loc[sparse_rows_mask, \"sparsity\"] = 0.90\n",
    "\n",
    "    df.loc[df[\"runtime\"] == \"DeepSparse\", \"runtime\"] = \"DeepSparse (0%)\"\n",
    "    df.loc[sparse_rows_mask, \"runtime\"] = \"DeepSparse (90%)\"\n",
    "\n",
    "    df[\"quantization\"] = \"off\"\n",
    "    df.loc[df[\"name\"].str.contains(\"quant_static\"), \"quantization\"] = \"static\"\n",
    "    df.loc[df[\"name\"].str.contains(\"quant_dynamic\"), \"quantization\"] = \"dynamic\"\n",
    "    # df.loc[\"sparsity\"] = df[\"name\"].str.split(\"_\", n=1, expand=True)[0]\n",
    "\n",
    "    # Only the largest model\n",
    "    df = df.loc[df[\"model_i\"] == df[\"model_i\"].max()]\n",
    "\n",
    "    df[\"inference_time_ms\"] = 1000 * df[\"inference_time_s\"]\n",
    "    df = df.sort_values(\"name\", kind=\"stable\")\n",
    "\n",
    "    return df\n"
   ]
  },
  {
   "cell_type": "code",
   "execution_count": null,
   "metadata": {
    "pycharm": {
     "name": "#%%\n"
    }
   },
   "outputs": [],
   "source": [
    "plot_dir = \"../figures/\"\n",
    "\n",
    "\n",
    "# def make_barplot(df, filename):\n",
    "#     fig = plt.figure()\n",
    "#     sns.barplot(data=df, y=\"name\", x='inference_time_s', ax=fig.gca(), ci=95)\n",
    "#     plt.xlabel(\"Inference time (s)\")\n",
    "#     plt.ylabel(\"Runtime library\")\n",
    "#     fig.savefig(os.path.join(plot_dir, filename), bbox_inches=\"tight\")\n",
    "\n",
    "def make_table(df):\n",
    "    df_latex_table = (df\n",
    "                  .groupby([\"runtime\", \"quantization\"])\n",
    "                  .agg({\"inference_time_ms\": \"mean\"}) #lambda x: x.quantile(0.99)\n",
    "                  .reset_index()\n",
    "                  .pivot(index=\"runtime\",\n",
    "                         columns=\"quantization\",\n",
    "                         values=\"inference_time_ms\")\n",
    "                  )[[\"off\", \"static\", \"dynamic\"]]\n",
    "\n",
    "    # df_latex_table.columns.name = \"Quantization\"\n",
    "    # df_latex_table.index.name = \"Runtime\"\n",
    "    df_latex_table.columns.name = None\n",
    "    df_latex_table.index.name = None\n",
    "\n",
    "    styler = (\n",
    "        df_latex_table.style\n",
    "        .format_index(escape=\"latex\")\n",
    "        .format(precision=2, na_rep=\"---\")\n",
    "    )\n",
    "\n",
    "    return styler.to_latex(hrules=True)\n",
    "\n",
    "def make_plots(df, name, display_name, pdf_metadata: Dict[str, str] = None):\n",
    "    if pdf_metadata is None:\n",
    "        pdf_metadata = {}\n",
    "\n",
    "    ci = 95\n",
    "    g = sns.catplot(\n",
    "        data=df, kind=\"bar\",\n",
    "        y=\"runtime\", x=\"inference_time_ms\", hue=\"quantization\",\n",
    "        ci=ci, palette=\"dark\", alpha=.6, height=4, aspect=4 / 3,\n",
    "    )\n",
    "    plt.xlabel(\"Inference time (ms)\")\n",
    "    plt.ylabel(\"Runtime name\")\n",
    "\n",
    "    plt.title(display_name)\n",
    "\n",
    "    pdf_metadata[\"ci\"] = ci\n",
    "    pdf_metadata[\"iterations\"] = df[\"iteration\"].max()\n",
    "\n",
    "    g.fig.savefig(\n",
    "        os.path.join(plot_dir, f\"{name}.pdf\"),\n",
    "        bbox_inches=\"tight\",\n",
    "        # Metadata doc: https://matplotlib.org/stable/api/backend_pdf_api.html#matplotlib.backends.backend_pdf.PdfFile\n",
    "        metadata={\n",
    "            \"Title\": \" \".join([f\"{k}={v}\" for k, v in pdf_metadata.items()])\n",
    "        },\n",
    "        backend=\"pgf\",\n",
    "    )\n",
    "\n",
    "    print(make_table(df))"
   ]
  },
  {
   "cell_type": "code",
   "execution_count": null,
   "metadata": {
    "pycharm": {
     "name": "#%%\n"
    }
   },
   "outputs": [],
   "source": [
    "dirname = \"0711-dense-2\"\n",
    "df_dense = read_results(dirname)\n",
    "make_plots(df_dense, \"dense\", \"Dense model\", {\"dirname\": dirname})"
   ]
  },
  {
   "cell_type": "code",
   "execution_count": null,
   "metadata": {
    "pycharm": {
     "name": "#%%\n"
    }
   },
   "outputs": [],
   "source": [
    "dirname = \"0630-inverted_bottleneck\"\n",
    "df_ib = read_results(dirname)\n",
    "make_plots(df_ib, \"ib\", \"Inverted bottleneck model\", {\"dirname\": dirname})"
   ]
  },
  {
   "cell_type": "code",
   "execution_count": null,
   "metadata": {
    "pycharm": {
     "name": "#%%\n"
    }
   },
   "outputs": [],
   "source": [
    "dirname = \"0704-dilated_cnn\"\n",
    "df_dilated_cnn = read_results(dirname)\n",
    "make_plots(df_dilated_cnn, \"dilated_cnn\", \"Dilated CNN model\", {\"dirname\": dirname})"
   ]
  },
  {
   "cell_type": "code",
   "execution_count": null,
   "metadata": {
    "pycharm": {
     "name": "#%%\n"
    }
   },
   "outputs": [],
   "source": []
  }
 ],
 "metadata": {
  "kernelspec": {
   "display_name": "Python 3 (ipykernel)",
   "language": "python",
   "name": "python3"
  },
  "language_info": {
   "codemirror_mode": {
    "name": "ipython",
    "version": 3
   },
   "file_extension": ".py",
   "mimetype": "text/x-python",
   "name": "python",
   "nbconvert_exporter": "python",
   "pygments_lexer": "ipython3",
   "version": "3.9.13"
  }
 },
 "nbformat": 4,
 "nbformat_minor": 1
}
